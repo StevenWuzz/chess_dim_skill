{
 "cells": [
  {
   "cell_type": "code",
   "execution_count": 232,
   "metadata": {},
   "outputs": [],
   "source": [
    "import numpy as np\n",
    "import pandas as pd\n",
    "import math "
   ]
  },
  {
   "cell_type": "code",
   "execution_count": 233,
   "metadata": {},
   "outputs": [],
   "source": [
    "chess_data = pd.read_csv('/w/225/1/chess/tactics/glicko_user_tactics_problem.csv_00')"
   ]
  },
  {
   "cell_type": "code",
   "execution_count": 234,
   "metadata": {},
   "outputs": [],
   "source": [
    "#chess_data.head()"
   ]
  },
  {
   "cell_type": "code",
   "execution_count": 235,
   "metadata": {},
   "outputs": [],
   "source": [
    "passed_only = chess_data[chess_data[\"is_passed\"] == 1]"
   ]
  },
  {
   "cell_type": "code",
   "execution_count": 236,
   "metadata": {},
   "outputs": [],
   "source": [
    "#passed_only"
   ]
  },
  {
   "cell_type": "code",
   "execution_count": 237,
   "metadata": {},
   "outputs": [],
   "source": [
    "vocab_dat = passed_only.groupby([\"tactics_problem_id\"], sort = False).size()"
   ]
  },
  {
   "cell_type": "code",
   "execution_count": 238,
   "metadata": {},
   "outputs": [],
   "source": [
    "#vocab_dat.head()"
   ]
  },
  {
   "cell_type": "code",
   "execution_count": 239,
   "metadata": {},
   "outputs": [],
   "source": [
    "count = np.int64(vocab_dat)\n",
    "problem_id = pd.unique(passed_only['tactics_problem_id'])\n",
    "dict_id_count = dict(zip(problem_id,count))"
   ]
  },
  {
   "cell_type": "code",
   "execution_count": 240,
   "metadata": {},
   "outputs": [],
   "source": [
    "sampling_size = 1000000\n",
    "PPMI_table = pd.DataFrame(index=np.arange(sampling_size), columns=['puzz1','puzz2','p1','p2','p1p2','PPMI'])"
   ]
  },
  {
   "cell_type": "code",
   "execution_count": 241,
   "metadata": {},
   "outputs": [],
   "source": [
    "#PPMI_table.head()"
   ]
  },
  {
   "cell_type": "code",
   "execution_count": 243,
   "metadata": {},
   "outputs": [],
   "source": [
    "sample_pairs = np.random.choice(problem_id, size = (sampling_size,2), replace = True)\n",
    "PPMI_table.iloc[:,0:2] = pd.DataFrame(sample_pairs, columns=['puzz1','puzz2'])"
   ]
  },
  {
   "cell_type": "code",
   "execution_count": 244,
   "metadata": {},
   "outputs": [],
   "source": [
    "#PPMI_table.head()"
   ]
  },
  {
   "cell_type": "code",
   "execution_count": 245,
   "metadata": {},
   "outputs": [],
   "source": [
    "puzz1 = np.array(PPMI_table['puzz1'])\n",
    "puzz2 = np.array(PPMI_table['puzz2'])\n",
    "PPMI_table['p1'] = np.vectorize(dict_id_count.get)(puzz1)\n",
    "PPMI_table['p2'] = np.vectorize(dict_id_count.get)(puzz2)"
   ]
  },
  {
   "cell_type": "code",
   "execution_count": 246,
   "metadata": {},
   "outputs": [],
   "source": [
    "#PPMI_table.head()"
   ]
  },
  {
   "cell_type": "code",
   "execution_count": 247,
   "metadata": {},
   "outputs": [],
   "source": [
    "temp = passed_only[['tactics_problem_id','user_hash']]"
   ]
  },
  {
   "cell_type": "code",
   "execution_count": 248,
   "metadata": {},
   "outputs": [],
   "source": [
    "#temp"
   ]
  },
  {
   "cell_type": "code",
   "execution_count": 249,
   "metadata": {},
   "outputs": [],
   "source": [
    "def f(df):\n",
    "    keys, values = df.sort_values('tactics_problem_id').values.T\n",
    "    ukeys, index = np.unique(keys, True)\n",
    "    arrays = np.split(values, index[1:])\n",
    "    user_hash = [list(a) for a in arrays]\n",
    "    return dict(zip(ukeys,user_hash))\n",
    "\n",
    "temp2 = f(temp)"
   ]
  },
  {
   "cell_type": "code",
   "execution_count": 250,
   "metadata": {},
   "outputs": [],
   "source": [
    "p1_hash = np.vectorize(temp2.get, otypes = [list])(puzz1)\n",
    "p2_hash = np.vectorize(temp2.get, otypes = [list])(puzz2)"
   ]
  },
  {
   "cell_type": "code",
   "execution_count": null,
   "metadata": {},
   "outputs": [],
   "source": [
    "for i in range(p1_hash.size):\n",
    "    p1 = np.array(p1_hash[i])\n",
    "    p2 = np.array(p2_hash[i])\n",
    "    p1p2 = np.intersect1d(p1,p2)\n",
    "    PPMI_table.iloc[i,4] = p1p2.size\n",
    "    if(PPMI_table.iloc[i,4] != 0):\n",
    "        PPMI_table.iloc[i,5] = max(np.log(np.array(PPMI_table.iloc[i,4])) + math.log(vocab_dat.size) - np.log(np.array(PPMI_table.iloc[i,2])) - np.log(np.array(PPMI_table.iloc[i,3])),0)\n",
    "    else:\n",
    "        PPMI_table.iloc[i,5] = 0"
   ]
  },
  {
   "cell_type": "code",
   "execution_count": null,
   "metadata": {},
   "outputs": [],
   "source": [
    "#PPMI_table.head()"
   ]
  }
 ],
 "metadata": {
  "kernelspec": {
   "display_name": "Python 3",
   "language": "python",
   "name": "python3"
  },
  "language_info": {
   "codemirror_mode": {
    "name": "ipython",
    "version": 3
   },
   "file_extension": ".py",
   "mimetype": "text/x-python",
   "name": "python",
   "nbconvert_exporter": "python",
   "pygments_lexer": "ipython3",
   "version": "3.8.2"
  }
 },
 "nbformat": 4,
 "nbformat_minor": 4
}
