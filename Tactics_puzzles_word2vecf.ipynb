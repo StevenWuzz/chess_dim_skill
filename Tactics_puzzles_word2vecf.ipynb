{
 "cells": [
  {
   "cell_type": "markdown",
   "metadata": {},
   "source": [
    "<h1>Word2Vecf on Chess Puzzle Data</h1>"
   ]
  },
  {
   "cell_type": "code",
   "execution_count": 1,
   "metadata": {},
   "outputs": [
    {
     "data": {
      "application/vnd.jupyter.widget-view+json": {
       "model_id": "1dd7508456434122b6ee32a6771b0786",
       "version_major": 2,
       "version_minor": 0
      },
      "text/plain": [
       "HBox(children=(FloatProgress(value=1.0, bar_style='info', max=1.0), HTML(value='')))"
      ]
     },
     "metadata": {},
     "output_type": "display_data"
    },
    {
     "name": "stderr",
     "output_type": "stream",
     "text": [
      "/h/224/stevenhl/miniconda3/envs/chess/lib/python3.8/site-packages/tqdm/std.py:668: FutureWarning: The Panel class is removed from pandas. Accessing it from the top-level namespace will also be removed in the next version\n",
      "  from pandas import Panel\n"
     ]
    }
   ],
   "source": [
    "#Word 2 Vec F test\n",
    "import numpy as np\n",
    "import pandas as pd\n",
    "from tqdm.notebook import tqdm\n",
    "tqdm().pandas()\n",
    "\n",
    "TRAIN_DAT = '/w/225/1/chess/tactics/parameter_tuning_files/train_full_set'\n",
    "CONTEXT_DAT = '/w/225/1/chess/tactics/parameter_tuning_files/cv_full_set'\n",
    "VOCAB_DAT = '/w/225/1/chess/tactics/parameter_tuning_files/wv_full_set'\n",
    "PPMI_TAB = '/w/225/1/chess/tactics/parameter_tuning_files/sample_pairs_ppmi'\n",
    "\n",
    "#TRAIN_DAT = '/w/225/1/chess/tactics/parameter_tuning_files/train_full_set_failed'\n",
    "#CONTEXT_DAT = '/w/225/1/chess/tactics/parameter_tuning_files/cv_full_set_failed'\n",
    "#VOCAB_DAT = '/w/225/1/chess/tactics/parameter_tuning_files/wv_full_set_failed'\n",
    "#PPMI_TAB = '/w/225/1/chess/tactics/parameter_tuning_files/sample_pairs_ppmi_failed'"
   ]
  },
  {
   "cell_type": "code",
   "execution_count": 61,
   "metadata": {},
   "outputs": [
    {
     "name": "stdout",
     "output_type": "stream",
     "text": [
      "['00000898c4d3f4644a95cbe3e167ac37762a016a99ca1f0280a7920c3fb4e16c 1\\n', '000016ae6693789632f6cafd4515ff7d9fec623cd04cda82089320b8be5b376b 1\\n', '00001c95453dafe56fc3cdf7f17a78c118aa8060fdf72df96072bc761604bba6 6\\n', '00002d5d9e845a51a055bd3359353b9c59a2b775c5d43d6f70b99d064ba7a4c1 9\\n', '000032f45b621e47a6d2964692b95e044adbd7d37950fdeb6404e5db4f6aaf81 2\\n', '0000548188f5c98b797e93037a520d34afdf78efbb057da537792209ed5d3202 4\\n', '000068d3aa3a7d4bb9d0b67ed0f5ad3b14c4552b20ba37d88b00186e4672cb5c 4\\n', '00006cdfb66062de722f830a4ff288694f1ae1690da912c0508ea2e5ba1f053c 13\\n', '00007dd32c35a45c80d95e38bdde706009b3d2bdc2f61009b928481bf5558014 14\\n', '0000a658603f7ff787047043ae889de36319a58ea24712cd396dda0586a137db 1\\n']\n"
     ]
    }
   ],
   "source": [
    "with open(CONTEXT_DAT) as myfile:\n",
    "    head = [next(myfile) for x in range(10)]\n",
    "print(head)"
   ]
  },
  {
   "cell_type": "markdown",
   "metadata": {},
   "source": [
    "<h2>Load, Filter, Save Data for Loading to Word2vecf</h2>"
   ]
  },
  {
   "cell_type": "code",
   "execution_count": 2,
   "metadata": {},
   "outputs": [],
   "source": [
    "#Load Data\n",
    "chess_data = pd.read_csv('/w/225/1/chess/tactics/glicko_user_tactics_problem.csv_00')"
   ]
  },
  {
   "cell_type": "code",
   "execution_count": 3,
   "metadata": {},
   "outputs": [],
   "source": [
    "#Filter Data\n",
    "chess_data = chess_data[chess_data.is_passed == 1]"
   ]
  },
  {
   "cell_type": "code",
   "execution_count": 4,
   "metadata": {},
   "outputs": [
    {
     "data": {
      "text/plain": [
       "73450218"
      ]
     },
     "execution_count": 4,
     "metadata": {},
     "output_type": "execute_result"
    }
   ],
   "source": [
    "len(chess_data)"
   ]
  },
  {
   "cell_type": "code",
   "execution_count": 5,
   "metadata": {},
   "outputs": [
    {
     "data": {
      "text/plain": [
       "42278"
      ]
     },
     "execution_count": 5,
     "metadata": {},
     "output_type": "execute_result"
    }
   ],
   "source": [
    "#Create vocabulary file for word2vecf\n",
    "vocab_dat = chess_data.groupby('tactics_problem_id')['user_hash'].nunique().to_frame()\n",
    "#Number of vocab words in 'corpus'\n",
    "len(vocab_dat.index)"
   ]
  },
  {
   "cell_type": "code",
   "execution_count": 6,
   "metadata": {},
   "outputs": [
    {
     "data": {
      "text/html": [
       "<div>\n",
       "<style scoped>\n",
       "    .dataframe tbody tr th:only-of-type {\n",
       "        vertical-align: middle;\n",
       "    }\n",
       "\n",
       "    .dataframe tbody tr th {\n",
       "        vertical-align: top;\n",
       "    }\n",
       "\n",
       "    .dataframe thead th {\n",
       "        text-align: right;\n",
       "    }\n",
       "</style>\n",
       "<table border=\"1\" class=\"dataframe\">\n",
       "  <thead>\n",
       "    <tr style=\"text-align: right;\">\n",
       "      <th></th>\n",
       "      <th>tactics_problem_id</th>\n",
       "    </tr>\n",
       "    <tr>\n",
       "      <th>user_hash</th>\n",
       "      <th></th>\n",
       "    </tr>\n",
       "  </thead>\n",
       "  <tbody>\n",
       "    <tr>\n",
       "      <th>00001c95453dafe56fc3cdf7f17a78c118aa8060fdf72df96072bc761604bba6</th>\n",
       "      <td>1</td>\n",
       "    </tr>\n",
       "    <tr>\n",
       "      <th>00002d5d9e845a51a055bd3359353b9c59a2b775c5d43d6f70b99d064ba7a4c1</th>\n",
       "      <td>2</td>\n",
       "    </tr>\n",
       "    <tr>\n",
       "      <th>0000548188f5c98b797e93037a520d34afdf78efbb057da537792209ed5d3202</th>\n",
       "      <td>2</td>\n",
       "    </tr>\n",
       "    <tr>\n",
       "      <th>00006cdfb66062de722f830a4ff288694f1ae1690da912c0508ea2e5ba1f053c</th>\n",
       "      <td>4</td>\n",
       "    </tr>\n",
       "    <tr>\n",
       "      <th>00007dd32c35a45c80d95e38bdde706009b3d2bdc2f61009b928481bf5558014</th>\n",
       "      <td>3</td>\n",
       "    </tr>\n",
       "  </tbody>\n",
       "</table>\n",
       "</div>"
      ],
      "text/plain": [
       "                                                    tactics_problem_id\n",
       "user_hash                                                             \n",
       "00001c95453dafe56fc3cdf7f17a78c118aa8060fdf72df...                   1\n",
       "00002d5d9e845a51a055bd3359353b9c59a2b775c5d43d6...                   2\n",
       "0000548188f5c98b797e93037a520d34afdf78efbb057da...                   2\n",
       "00006cdfb66062de722f830a4ff288694f1ae1690da912c...                   4\n",
       "00007dd32c35a45c80d95e38bdde706009b3d2bdc2f6100...                   3"
      ]
     },
     "execution_count": 6,
     "metadata": {},
     "output_type": "execute_result"
    }
   ],
   "source": [
    "#Get the count of puzzles attempted per each user, ie create the context file for word2vecf\n",
    "context_dat = chess_data.groupby('user_hash')['tactics_problem_id'].nunique().to_frame()\n",
    "context_dat.head()"
   ]
  },
  {
   "cell_type": "code",
   "execution_count": 7,
   "metadata": {},
   "outputs": [],
   "source": [
    "#Write to CSV the training, vocab and context data\n",
    "#Convert indexes to columns\n",
    "vocab_dat.reset_index(level=0, inplace=True)\n",
    "vocab_dat.to_csv('/w/225/1/chess/tactics/parameter_tuning_files/wv_full_set',\n",
    "                 sep=' ',\n",
    "                 index=False,\n",
    "                 header=False,\n",
    "                 encoding='utf-8')"
   ]
  },
  {
   "cell_type": "code",
   "execution_count": 8,
   "metadata": {},
   "outputs": [],
   "source": [
    "context_dat.reset_index(level=0,inplace=True)\n",
    "context_dat.to_csv('/w/225/1/chess/tactics/parameter_tuning_files/cv_full_set',\n",
    "                 sep=' ',\n",
    "                 index=False,\n",
    "                 header=False,\n",
    "                 encoding='utf-8')"
   ]
  },
  {
   "cell_type": "code",
   "execution_count": 9,
   "metadata": {},
   "outputs": [],
   "source": [
    "#Filter and reorder columns\n",
    "#chess_data = chess_data.filter(items=['user_hash','tactics_problem_id'])\n",
    "chess_data = chess_data[['tactics_problem_id','user_hash']]\n",
    "chess_data.head()\n",
    "chess_data.to_csv('/w/225/1/chess/tactics/parameter_tuning_files/train_full_set',\n",
    "                 sep=' ',\n",
    "                 index=False,\n",
    "                 header=False,\n",
    "                 encoding='utf-8')"
   ]
  },
  {
   "cell_type": "markdown",
   "metadata": {},
   "source": [
    "<h2>Create Pairs of random vocab words to generate PPMIs</h2>"
   ]
  },
  {
   "cell_type": "code",
   "execution_count": 96,
   "metadata": {},
   "outputs": [
    {
     "name": "stdout",
     "output_type": "stream",
     "text": [
      "[[ 49380 107095]\n",
      " [ 29069  29424]\n",
      " [159734  99303]\n",
      " [ 90318  33369]\n",
      " [ 46199  54604]]\n",
      "(999975, 2)\n"
     ]
    }
   ],
   "source": [
    "#Create a bunch of random pairs of \n",
    "pairs_to_sample = 1000000 # will be less b.c. duplicates\n",
    "vocab_dat = vocab_dat.set_index('tactics_problem_id')\n",
    "pairs = np.random.choice(vocab_dat.index, (pairs_to_sample,2))\n",
    "pairs = pairs[pairs[:, 0] != pairs[:, 1]]\n",
    "print(pairs[:5])\n",
    "print(pairs.shape)"
   ]
  },
  {
   "cell_type": "code",
   "execution_count": 101,
   "metadata": {},
   "outputs": [
    {
     "data": {
      "text/html": [
       "<div>\n",
       "<style scoped>\n",
       "    .dataframe tbody tr th:only-of-type {\n",
       "        vertical-align: middle;\n",
       "    }\n",
       "\n",
       "    .dataframe tbody tr th {\n",
       "        vertical-align: top;\n",
       "    }\n",
       "\n",
       "    .dataframe thead th {\n",
       "        text-align: right;\n",
       "    }\n",
       "</style>\n",
       "<table border=\"1\" class=\"dataframe\">\n",
       "  <thead>\n",
       "    <tr style=\"text-align: right;\">\n",
       "      <th></th>\n",
       "      <th>puz_a</th>\n",
       "      <th>puz_b</th>\n",
       "      <th>users_a</th>\n",
       "      <th>users_b</th>\n",
       "    </tr>\n",
       "  </thead>\n",
       "  <tbody>\n",
       "    <tr>\n",
       "      <th>0</th>\n",
       "      <td>49380</td>\n",
       "      <td>107095</td>\n",
       "      <td>3709</td>\n",
       "      <td>91</td>\n",
       "    </tr>\n",
       "    <tr>\n",
       "      <th>1</th>\n",
       "      <td>29069</td>\n",
       "      <td>29424</td>\n",
       "      <td>172</td>\n",
       "      <td>3040</td>\n",
       "    </tr>\n",
       "    <tr>\n",
       "      <th>2</th>\n",
       "      <td>159734</td>\n",
       "      <td>99303</td>\n",
       "      <td>53</td>\n",
       "      <td>19</td>\n",
       "    </tr>\n",
       "    <tr>\n",
       "      <th>3</th>\n",
       "      <td>90318</td>\n",
       "      <td>33369</td>\n",
       "      <td>1841</td>\n",
       "      <td>683</td>\n",
       "    </tr>\n",
       "    <tr>\n",
       "      <th>4</th>\n",
       "      <td>46199</td>\n",
       "      <td>54604</td>\n",
       "      <td>4087</td>\n",
       "      <td>1566</td>\n",
       "    </tr>\n",
       "  </tbody>\n",
       "</table>\n",
       "</div>"
      ],
      "text/plain": [
       "    puz_a   puz_b  users_a  users_b\n",
       "0   49380  107095     3709       91\n",
       "1   29069   29424      172     3040\n",
       "2  159734   99303       53       19\n",
       "3   90318   33369     1841      683\n",
       "4   46199   54604     4087     1566"
      ]
     },
     "execution_count": 101,
     "metadata": {},
     "output_type": "execute_result"
    }
   ],
   "source": [
    "#Join pairs with their user counts for each puzzle\n",
    "pmi_table = pd.DataFrame(data=pairs,columns=[\"puz_a\",\"puz_b\"])\n",
    "pmi_table = pd.merge(pmi_table,vocab_dat,how='left',left_on='puz_a',right_on='tactics_problem_id')\n",
    "#mi_table.columns = ['puz_a','puz_b','users_a',]\n",
    "pmi_table = pd.merge(pmi_table,vocab_dat,how='left',left_on='puz_b',right_on='tactics_problem_id')\n",
    "pmi_table.columns = ['puz_a','puz_b','users_a','users_b']\n",
    "pmi_table.head()"
   ]
  },
  {
   "cell_type": "code",
   "execution_count": 102,
   "metadata": {},
   "outputs": [
    {
     "data": {
      "text/html": [
       "<div>\n",
       "<style scoped>\n",
       "    .dataframe tbody tr th:only-of-type {\n",
       "        vertical-align: middle;\n",
       "    }\n",
       "\n",
       "    .dataframe tbody tr th {\n",
       "        vertical-align: top;\n",
       "    }\n",
       "\n",
       "    .dataframe thead th {\n",
       "        text-align: right;\n",
       "    }\n",
       "</style>\n",
       "<table border=\"1\" class=\"dataframe\">\n",
       "  <thead>\n",
       "    <tr style=\"text-align: right;\">\n",
       "      <th></th>\n",
       "      <th>tactics_problem_id</th>\n",
       "      <th>user_hash</th>\n",
       "    </tr>\n",
       "  </thead>\n",
       "  <tbody>\n",
       "    <tr>\n",
       "      <th>7720</th>\n",
       "      <td>731</td>\n",
       "      <td>fc8de4a6060205284a24b107d1085d520f545964f660a5...</td>\n",
       "    </tr>\n",
       "    <tr>\n",
       "      <th>59761584</th>\n",
       "      <td>731</td>\n",
       "      <td>173c92bf4899d9fa284a7243f741a6494dbe854937b987...</td>\n",
       "    </tr>\n",
       "    <tr>\n",
       "      <th>18650605</th>\n",
       "      <td>731</td>\n",
       "      <td>cc6ab3f8acaf8a643b1f91dbd30d56855fc8cd4a46e167...</td>\n",
       "    </tr>\n",
       "    <tr>\n",
       "      <th>73199415</th>\n",
       "      <td>731</td>\n",
       "      <td>904358b1f756ebdb56b7e1b9cd6399b17fb7c3cc19236d...</td>\n",
       "    </tr>\n",
       "    <tr>\n",
       "      <th>35112994</th>\n",
       "      <td>731</td>\n",
       "      <td>34501ed24536c78449532fdeaac4ca1a58efe422cc227a...</td>\n",
       "    </tr>\n",
       "  </tbody>\n",
       "</table>\n",
       "</div>"
      ],
      "text/plain": [
       "          tactics_problem_id  \\\n",
       "7720                     731   \n",
       "59761584                 731   \n",
       "18650605                 731   \n",
       "73199415                 731   \n",
       "35112994                 731   \n",
       "\n",
       "                                                  user_hash  \n",
       "7720      fc8de4a6060205284a24b107d1085d520f545964f660a5...  \n",
       "59761584  173c92bf4899d9fa284a7243f741a6494dbe854937b987...  \n",
       "18650605  cc6ab3f8acaf8a643b1f91dbd30d56855fc8cd4a46e167...  \n",
       "73199415  904358b1f756ebdb56b7e1b9cd6399b17fb7c3cc19236d...  \n",
       "35112994  34501ed24536c78449532fdeaac4ca1a58efe422cc227a...  "
      ]
     },
     "execution_count": 102,
     "metadata": {},
     "output_type": "execute_result"
    }
   ],
   "source": [
    "#Sort for speeding up finding counts of shared users later\n",
    "chess_data.sort_values(by=\"tactics_problem_id\",inplace=True)\n",
    "chess_data.head()"
   ]
  },
  {
   "cell_type": "code",
   "execution_count": 104,
   "metadata": {},
   "outputs": [
    {
     "data": {
      "text/html": [
       "<div>\n",
       "<style scoped>\n",
       "    .dataframe tbody tr th:only-of-type {\n",
       "        vertical-align: middle;\n",
       "    }\n",
       "\n",
       "    .dataframe tbody tr th {\n",
       "        vertical-align: top;\n",
       "    }\n",
       "\n",
       "    .dataframe thead th {\n",
       "        text-align: right;\n",
       "    }\n",
       "</style>\n",
       "<table border=\"1\" class=\"dataframe\">\n",
       "  <thead>\n",
       "    <tr style=\"text-align: right;\">\n",
       "      <th></th>\n",
       "      <th>tactics_problem_id</th>\n",
       "      <th>user_hash</th>\n",
       "    </tr>\n",
       "  </thead>\n",
       "  <tbody>\n",
       "    <tr>\n",
       "      <th>0</th>\n",
       "      <td>731</td>\n",
       "      <td>fc8de4a6060205284a24b107d1085d520f545964f660a5...</td>\n",
       "    </tr>\n",
       "    <tr>\n",
       "      <th>1</th>\n",
       "      <td>731</td>\n",
       "      <td>173c92bf4899d9fa284a7243f741a6494dbe854937b987...</td>\n",
       "    </tr>\n",
       "    <tr>\n",
       "      <th>2</th>\n",
       "      <td>731</td>\n",
       "      <td>cc6ab3f8acaf8a643b1f91dbd30d56855fc8cd4a46e167...</td>\n",
       "    </tr>\n",
       "    <tr>\n",
       "      <th>3</th>\n",
       "      <td>731</td>\n",
       "      <td>904358b1f756ebdb56b7e1b9cd6399b17fb7c3cc19236d...</td>\n",
       "    </tr>\n",
       "    <tr>\n",
       "      <th>4</th>\n",
       "      <td>731</td>\n",
       "      <td>34501ed24536c78449532fdeaac4ca1a58efe422cc227a...</td>\n",
       "    </tr>\n",
       "  </tbody>\n",
       "</table>\n",
       "</div>"
      ],
      "text/plain": [
       "   tactics_problem_id                                          user_hash\n",
       "0                 731  fc8de4a6060205284a24b107d1085d520f545964f660a5...\n",
       "1                 731  173c92bf4899d9fa284a7243f741a6494dbe854937b987...\n",
       "2                 731  cc6ab3f8acaf8a643b1f91dbd30d56855fc8cd4a46e167...\n",
       "3                 731  904358b1f756ebdb56b7e1b9cd6399b17fb7c3cc19236d...\n",
       "4                 731  34501ed24536c78449532fdeaac4ca1a58efe422cc227a..."
      ]
     },
     "execution_count": 104,
     "metadata": {},
     "output_type": "execute_result"
    }
   ],
   "source": [
    "#Drop Index\n",
    "chess_data = chess_data.reset_index()\n",
    "chess_data = chess_data.drop('index',axis=1)\n",
    "chess_data.head()"
   ]
  },
  {
   "cell_type": "code",
   "execution_count": 116,
   "metadata": {},
   "outputs": [
    {
     "data": {
      "application/vnd.jupyter.widget-view+json": {
       "model_id": "21a38f14211b4382aaf22a1bfe848bee",
       "version_major": 2,
       "version_minor": 0
      },
      "text/plain": [
       "HBox(children=(FloatProgress(value=0.0, max=999975.0), HTML(value='')))"
      ]
     },
     "metadata": {},
     "output_type": "display_data"
    },
    {
     "name": "stdout",
     "output_type": "stream",
     "text": [
      "\n",
      "8201.523441076279\n"
     ]
    }
   ],
   "source": [
    "#Calculate number of users that have completed both puzzles for each pair\n",
    "import time\n",
    "def get_shared_user(row):\n",
    "    #temp = chess_data[(chess_data['tactics_problem_id'] == row['puz_a']) | (chess_data['tactics_problem_id'] == row['puz_b'])]\n",
    "    #return(len(temp[temp.duplicated(['user_hash'])]))\n",
    "    #Option B, slightly slower\n",
    "    #user_a = chess_data[chess_data['tactics_problem_id'] == row['puz_a']]\n",
    "    #user_b = chess_data[chess_data['tactics_problem_id'] == row['puz_b']]\n",
    "    #return(len(pd.merge(user_a,user_b,how='inner',on='user_hash')))\n",
    "    #Option C, requires sorted list, fastest\n",
    "    a_start = np.searchsorted(chess_data['tactics_problem_id'],row['puz_a'])\n",
    "    #print(a_first_index)\n",
    "    b_start = np.searchsorted(chess_data['tactics_problem_id'],row['puz_b'])\n",
    "    user_a = chess_data.iloc[a_start:a_start+row['users_a']]\n",
    "    user_b = chess_data.iloc[b_start:b_start+row['users_b']]\n",
    "    return(len(pd.merge(user_a,user_b,how='inner',on='user_hash')))\n",
    "\n",
    "start = time.time()\n",
    "pmi_table['users_a_b'] = pmi_table.progress_apply(lambda row: get_shared_user(row),axis=1)\n",
    "end = time.time()\n",
    "print(end-start)"
   ]
  },
  {
   "cell_type": "code",
   "execution_count": 134,
   "metadata": {},
   "outputs": [
    {
     "data": {
      "text/plain": [
       "(999989, 5)"
      ]
     },
     "execution_count": 134,
     "metadata": {},
     "output_type": "execute_result"
    }
   ],
   "source": [
    "pmi_table.shape"
   ]
  },
  {
   "cell_type": "code",
   "execution_count": 117,
   "metadata": {},
   "outputs": [
    {
     "data": {
      "text/html": [
       "<div>\n",
       "<style scoped>\n",
       "    .dataframe tbody tr th:only-of-type {\n",
       "        vertical-align: middle;\n",
       "    }\n",
       "\n",
       "    .dataframe tbody tr th {\n",
       "        vertical-align: top;\n",
       "    }\n",
       "\n",
       "    .dataframe thead th {\n",
       "        text-align: right;\n",
       "    }\n",
       "</style>\n",
       "<table border=\"1\" class=\"dataframe\">\n",
       "  <thead>\n",
       "    <tr style=\"text-align: right;\">\n",
       "      <th></th>\n",
       "      <th>puz_a</th>\n",
       "      <th>puz_b</th>\n",
       "      <th>users_a</th>\n",
       "      <th>users_b</th>\n",
       "      <th>users_a_b</th>\n",
       "      <th>pmi</th>\n",
       "    </tr>\n",
       "  </thead>\n",
       "  <tbody>\n",
       "    <tr>\n",
       "      <th>6</th>\n",
       "      <td>99759</td>\n",
       "      <td>106127</td>\n",
       "      <td>223</td>\n",
       "      <td>596</td>\n",
       "      <td>5</td>\n",
       "      <td>0.463125</td>\n",
       "    </tr>\n",
       "    <tr>\n",
       "      <th>9</th>\n",
       "      <td>188218</td>\n",
       "      <td>51179</td>\n",
       "      <td>416</td>\n",
       "      <td>236</td>\n",
       "      <td>7</td>\n",
       "      <td>1.102492</td>\n",
       "    </tr>\n",
       "    <tr>\n",
       "      <th>12</th>\n",
       "      <td>54028</td>\n",
       "      <td>98661</td>\n",
       "      <td>2008</td>\n",
       "      <td>2663</td>\n",
       "      <td>177</td>\n",
       "      <td>0.335146</td>\n",
       "    </tr>\n",
       "    <tr>\n",
       "      <th>23</th>\n",
       "      <td>49534</td>\n",
       "      <td>468557</td>\n",
       "      <td>329</td>\n",
       "      <td>117</td>\n",
       "      <td>1</td>\n",
       "      <td>0.092868</td>\n",
       "    </tr>\n",
       "    <tr>\n",
       "      <th>24</th>\n",
       "      <td>113934</td>\n",
       "      <td>168590</td>\n",
       "      <td>2003</td>\n",
       "      <td>280</td>\n",
       "      <td>15</td>\n",
       "      <td>0.121959</td>\n",
       "    </tr>\n",
       "  </tbody>\n",
       "</table>\n",
       "</div>"
      ],
      "text/plain": [
       "     puz_a   puz_b  users_a  users_b  users_a_b       pmi\n",
       "6    99759  106127      223      596          5  0.463125\n",
       "9   188218   51179      416      236          7  1.102492\n",
       "12   54028   98661     2008     2663        177  0.335146\n",
       "23   49534  468557      329      117          1  0.092868\n",
       "24  113934  168590     2003      280         15  0.121959"
      ]
     },
     "execution_count": 117,
     "metadata": {},
     "output_type": "execute_result"
    }
   ],
   "source": [
    "#Calculate pointwise mutual information for each pair\n",
    "def calc_pmi(row,vocab_len):\n",
    "    if(row['users_a_b'] == 0): return 0\n",
    "    return np.log(row['users_a_b']) + vocab_len - np.log(row['users_a']) - np.log(row['users_b'])\n",
    "\n",
    "vocab_len = np.log(len(vocab_dat.index))\n",
    "pmi_table['pmi'] = pmi_table.apply(lambda row: calc_pmi(row,vocab_len),axis=1)\n",
    "#Filter out negative values to get Postivive PMI\n",
    "pmi_table = pmi_table[pmi_table['pmi'] > 0]\n",
    "pmi_table.head()"
   ]
  },
  {
   "cell_type": "code",
   "execution_count": 118,
   "metadata": {},
   "outputs": [],
   "source": [
    "#Save PPMI\n",
    "pmi_table.to_csv('/w/225/1/chess/tactics/parameter_tuning_files/sample_pairs_ppmi_failed',\n",
    "                 encoding='utf-8')"
   ]
  },
  {
   "cell_type": "markdown",
   "metadata": {},
   "source": [
    "<h2>Create embeddings for different hyperparameter combos</h2>"
   ]
  },
  {
   "cell_type": "code",
   "execution_count": 2,
   "metadata": {},
   "outputs": [
    {
     "name": "stdout",
     "output_type": "stream",
     "text": [
      "[0.16]\n",
      "[265]\n"
     ]
    }
   ],
   "source": [
    "#Set up range of hyperparamters to try for tuning\n",
    "param1 = \"alpha\"\n",
    "#param1_values = np.array([0.02, 0.04, 0.06, 0.08, 0.1])\n",
    "param1_values = np.array([0.16])\n",
    "param2 = \"size\"\n",
    "#param2_values = np.array([262, 265, 268, 271, 274])\n",
    "param2_values = np.array([265])\n",
    "\n",
    "param3 = \"negative\"\n",
    "#param3_values = np.array([26, 27, 28, 29, 30])\n",
    "param3_values = 28\n",
    "\n",
    "param4 = \"sample\"\n",
    "#param4_values = np.array([0.35, 0.4, 0.45, 0.55, 0.6])\n",
    "param4_values = 0.35\n",
    "\n",
    "print(param1_values)\n",
    "print(param2_values)\n",
    "\n",
    "#print(param3_values)\n",
    "#print(param4_values)\n",
    "\n",
    "all_embeddings = [(p1, p2) for p1 in param1_values for p2 in param2_values]\n",
    "#all_embeddings = [(p3, p4) for p3 in param3_values for p4 in param4_values]"
   ]
  },
  {
   "cell_type": "code",
   "execution_count": 3,
   "metadata": {},
   "outputs": [
    {
     "data": {
      "text/plain": [
       "[(0.16, 265)]"
      ]
     },
     "execution_count": 3,
     "metadata": {},
     "output_type": "execute_result"
    }
   ],
   "source": [
    "all_embeddings"
   ]
  },
  {
   "cell_type": "code",
   "execution_count": 4,
   "metadata": {},
   "outputs": [
    {
     "data": {
      "application/vnd.jupyter.widget-view+json": {
       "model_id": "0e9da78c796d4f9180a98b997ab12595",
       "version_major": 2,
       "version_minor": 0
      },
      "text/plain": [
       "HBox(children=(FloatProgress(value=0.0, max=1.0), HTML(value='')))"
      ]
     },
     "metadata": {},
     "output_type": "display_data"
    },
    {
     "name": "stdout",
     "output_type": "stream",
     "text": [
      "['42278 265\\n', '731 -0.273811 0.064698 0.012569 0.006050 -0.377835 0.068170 0.553531 0.178029 0.397813 -0.027913 0.201066 0.216607 -0.084713 0.251497 0.193430 -0.202582 -0.101789 -0.137807 0.119573 -0.391823 -0.075476 0.046010 -0.158311 0.378781 -0.152374 -0.014017 -0.351324 -0.036963 0.083119 -0.136642 -0.116698 -0.308162 -0.057720 0.364979 -0.109130 -0.201203 0.194941 -0.110845 0.098594 0.390823 -0.166659 -0.178307 0.178717 0.133402 -0.243822 -0.385994 0.081304 0.345918 -0.223074 -0.378593 0.256744 0.017918 -0.099751 0.235483 0.335474 -0.160083 -0.466410 -0.289641 -0.294015 0.249351 -0.147339 0.080758 -0.115154 -0.145501 -0.017159 -0.204816 0.097164 0.222405 -0.261852 0.312423 -0.033550 0.028939 0.047223 -0.157820 0.160306 0.099855 0.060759 0.047253 -0.357961 -0.011064 -0.049189 -0.110230 -0.004523 -0.354684 0.507643 0.036592 0.091528 -0.428848 0.418916 -0.184762 0.101627 0.452782 -0.175757 -0.278496 0.364562 0.519110 -0.282638 -0.537899 0.052022 -0.325137 0.074971 -0.398539 -0.028994 -0.085123 0.038871 0.061882 -0.249622 -0.080077 0.106789 -0.283994 0.272733 -0.383811 -0.120926 0.059811 0.195326 -0.255459 -0.500189 0.079532 -0.042970 0.130029 -0.112762 -0.270422 -0.281457 -0.160614 0.113905 0.032670 -0.014225 -0.493253 0.186824 -0.238840 0.272757 0.321148 0.280044 0.024191 -0.206742 -0.126019 0.106056 -0.159810 -0.150885 0.208812 0.098280 -0.271623 0.169405 -0.304834 0.632694 -0.155539 -0.032593 -0.290322 0.206070 0.006990 -0.179156 0.178121 -0.203772 -0.036674 -0.083594 0.177421 -0.348830 0.094623 -0.120449 -0.168412 0.114805 0.078470 -0.500993 -0.024499 0.401085 -0.580121 0.095295 -0.203867 0.150412 0.106581 -0.043631 0.070961 -0.064608 -0.347791 0.189597 0.126694 -0.152023 0.239303 0.013171 -0.013592 -0.136669 0.057075 -0.025653 0.127476 0.245194 0.285194 0.298264 -0.468536 0.142132 0.217564 0.033594 -0.261655 0.179124 0.049448 -0.382213 -0.032332 0.090222 -0.027703 0.212589 -0.266309 0.314545 -0.234444 -0.015063 -0.278807 -0.167205 0.123337 0.062852 -0.160903 0.117233 -0.016501 -0.122737 -0.102224 0.391970 -0.065064 0.028406 -0.289560 -0.018448 0.355617 -0.087347 -0.127374 -0.054619 0.368754 -0.030447 -0.188555 0.157465 -0.508744 0.103115 -0.188010 0.101371 0.025317 -0.057041 0.167648 -0.275786 -0.127351 0.078855 0.142017 0.115133 -0.118065 -0.186548 0.215782 0.113823 0.342833 0.072691 0.030718 -0.502169 0.029019 -0.082075 0.263143 0.050695 0.002159 0.279027 0.185519 -0.250741 0.010504 -0.086477 0.216485 -0.143355 0.017516 -0.061266 0.274467 -0.049792 0.260810 0.244788 0.113988 -0.283485 \\n', '746 -0.005655 0.158663 -0.187279 -0.004237 -0.092348 -0.308904 0.289158 -0.361267 -0.356392 -0.208287 0.159053 -0.112241 0.047326 0.149982 0.276418 0.017610 -0.159263 -0.138547 -0.086453 -0.070866 0.168326 0.162707 -0.040613 -0.199262 -0.018947 -0.092745 0.159282 -0.260032 -0.214619 -0.105426 0.269360 0.096395 -0.452938 -0.102041 -0.011052 -0.221680 0.185405 0.037430 -0.055362 0.376023 0.088669 -0.184953 0.105718 -0.012175 -0.152493 -0.287959 -0.224167 0.282738 0.145856 -0.068751 -0.085959 0.254103 -0.061935 0.041390 0.118203 -0.019720 -0.104434 0.060203 0.152293 0.329949 -0.070903 -0.308726 -0.246932 0.186872 -0.197981 -0.040263 0.085574 0.358632 0.381946 0.491782 -0.408130 0.095856 -0.405225 0.358844 0.221947 0.413387 -0.011441 0.235662 -0.206252 0.202751 -0.210964 -0.310492 0.000027 0.381763 0.191010 0.244975 0.281533 -0.084902 -0.281954 0.001597 0.001787 -0.199435 -0.072745 0.080948 0.198680 -0.026228 0.031773 -0.447257 -0.285204 -0.464121 -0.360369 -0.000371 0.266097 0.003825 0.133107 -0.375484 0.027645 -0.093793 -0.113337 0.213210 0.141835 -0.169477 0.036825 0.081069 -0.139540 0.075220 0.086576 -0.246440 -0.019319 -0.376286 -0.001348 -0.492735 -0.174543 0.075758 -0.499651 -0.159798 -0.044949 -0.100621 -0.420243 0.398577 -0.141348 -0.205098 0.179923 0.019975 0.366646 0.332146 0.121231 -0.171046 0.426456 -0.277753 0.031162 -0.184836 0.149333 -0.066372 0.269731 -0.552380 0.056990 -0.304420 0.040136 -0.162963 0.166415 0.085048 0.185018 0.216302 -0.249542 0.361361 -0.123735 0.091335 -0.043352 -0.376791 0.400926 -0.196179 -0.401946 0.181627 0.213443 0.131430 -0.408076 -0.004812 0.244739 0.370005 0.062944 -0.003919 0.024492 -0.396150 0.215817 0.314752 -0.094365 -0.191955 -0.377325 -0.143275 -0.443368 0.036603 0.133357 -0.038956 0.260569 0.063747 0.244107 -0.438114 -0.026643 0.432427 -0.024227 -0.696574 0.159547 -0.056795 -0.043586 -0.091631 -0.182869 -0.008537 0.034452 -0.193341 0.251367 -0.093558 0.216598 -0.132759 -0.263742 -0.045679 0.156885 -0.139373 0.213502 0.301877 -0.389757 -0.181057 0.185306 -0.283908 -0.251286 0.266788 0.313027 0.182442 0.084000 0.385157 0.084751 0.014180 0.097434 -0.015981 -0.349186 -0.225555 -0.284196 -0.192925 -0.330800 0.232049 -0.003830 0.087916 -0.270320 -0.106885 0.000676 -0.002910 0.218579 -0.086705 0.214602 0.060027 -0.257110 0.277623 -0.066477 -0.509939 0.078693 -0.535556 -0.171246 -0.245888 -0.132765 0.306044 -0.286691 0.205115 0.051335 -0.360516 -0.197090 -0.295095 0.279005 -0.170439 -0.242436 -0.088673 -0.429400 0.245770 0.216545 -0.147548 -0.026325 \\n', '27811 0.221148 0.374587 -0.217060 -0.176811 -0.227762 -0.212119 0.207164 -0.069237 -0.344961 -0.127351 0.279992 -0.007465 -0.022739 0.210367 0.367189 0.287263 -0.276265 -0.189437 -0.258159 0.338899 0.319330 0.045707 -0.145844 -0.007532 -0.137329 -0.334451 0.129293 -0.627813 -0.400119 -0.289195 0.065286 0.076731 -0.463519 -0.016732 0.162717 -0.348340 0.150022 -0.060106 0.028543 0.318406 0.303352 -0.297389 -0.026974 0.011643 -0.167300 -0.314815 -0.377613 0.283769 0.176360 -0.125738 0.046806 0.248432 -0.001837 0.265246 0.517282 0.237721 -0.290313 0.064462 0.072692 0.112240 -0.073863 -0.394483 -0.049036 0.138041 -0.083222 -0.005426 0.023180 0.289109 0.370511 0.132967 -0.256077 0.024593 -0.161668 0.198067 0.106693 0.467933 0.016486 0.167605 -0.208090 0.217355 -0.221568 -0.381822 -0.145873 0.521497 0.049802 0.175296 0.246924 -0.028602 0.011255 0.088545 0.219139 -0.091009 0.127002 0.109404 0.119315 -0.000220 0.065247 -0.615032 -0.380798 -0.470786 -0.356362 -0.006487 -0.033329 -0.120278 0.089306 -0.347332 0.124163 -0.250571 -0.092135 0.105923 0.070449 0.006746 0.180827 -0.001854 -0.034120 0.147867 0.275971 -0.206873 -0.176900 -0.422425 -0.088351 -0.241024 -0.282844 -0.139517 -0.348921 -0.129379 0.043918 -0.269493 -0.465164 0.410857 -0.151761 -0.419650 0.279118 -0.025898 0.112858 0.404495 0.288184 -0.108452 0.512115 -0.271879 0.146239 -0.146373 -0.119284 -0.247406 0.100639 -0.556825 -0.361310 -0.461437 0.026588 -0.028882 0.180199 0.321845 0.288215 0.173994 -0.112201 0.586914 0.078546 0.062448 -0.042684 -0.343990 0.318632 -0.413490 -0.329153 0.111795 0.009929 0.218516 -0.363564 0.017443 0.457724 0.296785 -0.143200 -0.106775 0.044484 -0.283561 0.420975 0.399142 -0.010173 -0.621622 -0.384360 -0.116881 -0.378268 -0.156569 0.174684 0.145646 0.244826 0.124594 0.276695 -0.381500 0.091133 0.295098 0.003236 -0.959620 -0.015943 -0.092657 0.002518 -0.099228 -0.225493 0.116851 0.077328 -0.299957 0.277058 -0.101251 0.239906 -0.289227 -0.235130 -0.117081 0.305067 -0.009073 0.319872 0.446071 -0.276915 -0.113909 0.033940 -0.228904 -0.129387 0.347995 0.157296 -0.079169 0.238444 0.144322 0.069412 0.010681 0.177459 -0.012640 -0.318898 -0.294126 -0.319117 -0.229251 -0.455024 0.255654 0.214259 0.018635 -0.303145 -0.307959 0.113368 0.148740 0.462581 0.003270 0.044272 0.033345 -0.255709 0.575336 -0.369919 -0.566113 -0.010940 -0.617732 -0.386371 -0.250978 -0.268711 0.239772 -0.410083 0.149554 0.207141 -0.469751 -0.287594 -0.517965 0.393749 -0.256796 -0.386020 -0.175427 -0.282003 0.042918 0.124706 -0.070999 -0.051310 \\n', '905 0.053386 0.330680 -0.310529 -0.031404 -0.166232 -0.206855 0.230560 -0.197146 -0.302218 -0.158984 0.165386 -0.239505 -0.091084 0.135784 0.373979 0.021744 -0.174542 -0.190202 -0.171426 0.054070 0.100899 0.135645 -0.099218 0.074937 -0.102242 -0.157272 0.152895 -0.358684 -0.096950 -0.133750 0.215700 0.053357 -0.296543 -0.120445 0.040203 -0.321603 0.171518 0.058724 -0.067984 0.272844 0.240726 -0.172995 0.167814 0.052721 -0.247981 -0.323081 -0.110719 0.316664 0.161625 -0.069756 -0.039380 0.285091 -0.036091 0.183287 0.399873 0.143026 -0.175693 0.010632 0.092935 0.166253 -0.161475 -0.303355 -0.123907 0.138688 -0.088557 0.043207 0.175768 0.336358 0.575053 0.207620 -0.250673 0.153362 -0.366548 0.390634 0.232838 0.387443 -0.076926 0.341336 -0.116189 0.017817 -0.208666 -0.223337 -0.003999 0.540294 0.112226 0.150530 0.345660 -0.140113 -0.355200 -0.091615 0.266749 -0.157003 -0.087697 0.006932 0.145820 0.032942 -0.044074 -0.380832 -0.320937 -0.360034 -0.129539 -0.072603 0.062395 0.022988 0.145132 -0.255594 0.152046 -0.011487 -0.214160 0.143655 0.291871 -0.074526 0.098737 -0.037655 -0.108542 0.069652 0.170211 -0.192073 -0.032978 -0.333416 -0.142394 -0.316704 -0.040021 -0.031708 -0.528723 -0.184037 0.062975 -0.149325 -0.338845 0.321105 -0.058588 -0.120653 0.218562 -0.158201 0.405040 0.432161 0.195674 -0.175589 0.301012 -0.176237 0.114241 -0.119580 0.005537 0.030966 0.156589 -0.577457 0.016385 -0.423665 0.091215 -0.067384 0.114472 0.309736 0.149450 0.327721 -0.296675 0.473407 -0.017199 0.182962 -0.063662 -0.293279 0.353456 -0.416162 -0.417698 0.220653 -0.037652 0.193987 -0.421318 -0.119695 0.229370 0.215632 -0.014793 -0.204542 -0.069648 -0.453239 0.175204 0.370646 0.129291 -0.386535 -0.196014 -0.037022 -0.267513 -0.000828 0.189705 -0.079308 0.270233 0.215678 0.204029 -0.172691 0.098771 0.209220 -0.123531 -0.787088 0.121612 0.033846 0.059237 0.013918 -0.167503 -0.040810 -0.007279 -0.239771 0.215104 -0.064923 0.253530 -0.234004 -0.196710 -0.132592 0.231357 -0.115133 0.139001 0.205209 -0.464554 -0.194506 0.085231 -0.185000 -0.263861 0.415908 0.413424 0.057286 0.246190 0.353952 -0.049596 0.160193 0.160079 0.086967 -0.395186 -0.415835 -0.330161 -0.194689 -0.255658 0.345196 -0.029313 0.313147 -0.410290 -0.133071 -0.110748 0.045407 0.234263 -0.010147 -0.047964 0.033698 -0.200224 0.199644 -0.176345 -0.475610 -0.097721 -0.506559 -0.287850 -0.121919 -0.215255 0.286290 -0.407329 0.126144 0.122755 -0.455831 -0.222999 -0.198892 0.382922 -0.174471 -0.344930 -0.138797 -0.457823 0.008282 0.098585 -0.170511 -0.181655 \\n']\n",
      "\n"
     ]
    }
   ],
   "source": [
    "import subprocess\n",
    "import sys\n",
    "\n",
    "def generate_embedding(tpl):\n",
    "    #p3, p4 = tpl\n",
    "    p1, p2 = tpl\n",
    "    output = f\"word2vecf/vectors/size_alpha/vecs_{p1}_{p2}.txt\"\n",
    "    #output = f\"word2vecf/vectors/negative_sample/vecs_{p3}_{p4}.txt\"\n",
    "    command = f\"word2vecf/word2vecf -train {TRAIN_DAT} -wvocab {VOCAB_DAT} -cvocab {CONTEXT_DAT} -output {output} -threads 180 -{param1} {p1} -{param2} {p2} -negative 28 -sample 0.35\"\n",
    "    #command = f\"word2vecf/word2vecf -train {TRAIN_DAT} -wvocab {VOCAB_DAT} -cvocab {CONTEXT_DAT} -output {output} -threads 180 -alpha 0.15 -size 250 - {param3} {p3} -{param4} {p4}\"\n",
    "    \n",
    "    subprocess.run(command, shell=True)\n",
    "    \n",
    "    with open(output) as myfile:\n",
    "        head = [next(myfile) for x in range(5)]\n",
    "    print(head)\n",
    "    \n",
    "    return output\n",
    "    \n",
    "generated_embeddings = list(map(generate_embedding, tqdm(all_embeddings)))"
   ]
  },
  {
   "cell_type": "code",
   "execution_count": 5,
   "metadata": {},
   "outputs": [
    {
     "data": {
      "application/vnd.jupyter.widget-view+json": {
       "model_id": "a7340f7148414999bb2290d6a62a97af",
       "version_major": 2,
       "version_minor": 0
      },
      "text/plain": [
       "HBox(children=(FloatProgress(value=0.0, max=1.0), HTML(value='')))"
      ]
     },
     "metadata": {},
     "output_type": "display_data"
    },
    {
     "name": "stdout",
     "output_type": "stream",
     "text": [
      "\n"
     ]
    }
   ],
   "source": [
    "#Load embeddings\n",
    "\n",
    "def load_embedding(filename):\n",
    "    vectors = pd.read_csv(filename, sep=' ', header=None, skiprows=1)\n",
    "    #Set index to be the first column which contains the puzzle IDs\n",
    "    vectors = vectors.set_index(0)\n",
    "    #Get rid of empty column at end\n",
    "    vectors = vectors.drop(len(vectors.columns),axis=1)\n",
    "    #vectors = vectors = vectors.iloc[:, 0:200]\n",
    "    #Normalize puzzle vectors\n",
    "    vectors = vectors.divide(np.linalg.norm(vectors, axis=1), axis=0)\n",
    "    return vectors\n",
    "\n",
    "loaded_embeddings = list(map(lambda x: load_embedding(x), tqdm(generated_embeddings)))"
   ]
  },
  {
   "cell_type": "code",
   "execution_count": 7,
   "metadata": {},
   "outputs": [
    {
     "data": {
      "text/plain": [
       "[             1         2         3         4         5         6         7    \\\n",
       " 0                                                                              \n",
       " 731    -0.074564  0.017618  0.003423  0.001648 -0.102891  0.018564  0.150737   \n",
       " 746    -0.001494  0.041922 -0.049483 -0.001120 -0.024400 -0.081619  0.076401   \n",
       " 27811   0.051139  0.086621 -0.050194 -0.040887 -0.052669 -0.049051  0.047905   \n",
       " 905     0.013901  0.086103 -0.080856 -0.008177 -0.043284 -0.053861  0.060034   \n",
       " 48779   0.016093  0.084494 -0.045022 -0.038027 -0.069925 -0.050765  0.072574   \n",
       " ...          ...       ...       ...       ...       ...       ...       ...   \n",
       " 386259 -0.043087 -0.022570  0.011684  0.017362  0.015008 -0.011224  0.155107   \n",
       " 391319 -0.044721 -0.016157  0.007500  0.019504  0.016111 -0.004336  0.152400   \n",
       " 397091 -0.070533 -0.031068 -0.009931  0.033456  0.027996 -0.009771  0.174996   \n",
       " 408141 -0.073338  0.003987  0.022723  0.032296  0.029382 -0.017982  0.138977   \n",
       " 424251 -0.065990 -0.009025  0.010039  0.040863  0.031593  0.000134  0.161444   \n",
       " \n",
       "              8         9         10   ...       256       257       258  \\\n",
       " 0                                     ...                                 \n",
       " 731     0.048481  0.108332 -0.007601  ...  0.058953 -0.039038  0.004770   \n",
       " 746    -0.095454 -0.094166 -0.055034  ... -0.077970  0.073719 -0.045033   \n",
       " 27811  -0.016011 -0.079770 -0.029449  ... -0.119776  0.091052 -0.059383   \n",
       " 905    -0.051333 -0.078692 -0.041397  ... -0.051788  0.099706 -0.045429   \n",
       " 48779   0.000525 -0.073374 -0.051441  ... -0.082183  0.034046 -0.057008   \n",
       " ...          ...       ...       ...  ...       ...       ...       ...   \n",
       " 386259  0.122871  0.056872 -0.065975  ... -0.023470  0.079762 -0.022193   \n",
       " 391319  0.130621  0.057390 -0.068089  ... -0.033451  0.087423 -0.028509   \n",
       " 397091  0.159033  0.091062 -0.068496  ... -0.030793  0.058929 -0.012441   \n",
       " 408141  0.142102  0.085549 -0.088173  ... -0.030918  0.075900 -0.022939   \n",
       " 424251  0.157172  0.068678 -0.083879  ... -0.037180  0.105773 -0.019969   \n",
       " \n",
       "              259       260       261       262       263       264       265  \n",
       " 0                                                                             \n",
       " 731    -0.016684  0.074742 -0.013559  0.071023  0.066660  0.031041 -0.077198  \n",
       " 746    -0.064056 -0.023429 -0.113456  0.064937  0.057216 -0.038985 -0.006956  \n",
       " 27811  -0.089265 -0.040566 -0.065212  0.009925  0.028838 -0.016418 -0.011865  \n",
       " 905    -0.089814 -0.036140 -0.119209  0.002156  0.025670 -0.044398 -0.047300  \n",
       " 48779  -0.048543 -0.050929 -0.075958  0.009745 -0.007759 -0.045433 -0.041274  \n",
       " ...          ...       ...       ...       ...       ...       ...       ...  \n",
       " 386259 -0.098099  0.133022 -0.018800 -0.006922  0.056640 -0.061732 -0.110530  \n",
       " 391319 -0.088455  0.132312 -0.012867 -0.010057  0.060821 -0.068035 -0.103961  \n",
       " 397091 -0.071846  0.143644 -0.014965 -0.037104  0.040575 -0.055106 -0.096788  \n",
       " 408141 -0.062561  0.162945 -0.002287 -0.011496  0.042677 -0.054193 -0.075502  \n",
       " 424251 -0.074106  0.140293 -0.021631 -0.032560  0.050391 -0.069390 -0.085872  \n",
       " \n",
       " [42278 rows x 265 columns]]"
      ]
     },
     "execution_count": 7,
     "metadata": {},
     "output_type": "execute_result"
    }
   ],
   "source": [
    "loaded_embeddings"
   ]
  },
  {
   "cell_type": "code",
   "execution_count": 8,
   "metadata": {},
   "outputs": [
    {
     "data": {
      "text/html": [
       "<div>\n",
       "<style scoped>\n",
       "    .dataframe tbody tr th:only-of-type {\n",
       "        vertical-align: middle;\n",
       "    }\n",
       "\n",
       "    .dataframe tbody tr th {\n",
       "        vertical-align: top;\n",
       "    }\n",
       "\n",
       "    .dataframe thead th {\n",
       "        text-align: right;\n",
       "    }\n",
       "</style>\n",
       "<table border=\"1\" class=\"dataframe\">\n",
       "  <thead>\n",
       "    <tr style=\"text-align: right;\">\n",
       "      <th></th>\n",
       "      <th>puz_a</th>\n",
       "      <th>puz_b</th>\n",
       "      <th>users_a</th>\n",
       "      <th>users_b</th>\n",
       "      <th>users_a_b</th>\n",
       "      <th>pmi</th>\n",
       "    </tr>\n",
       "  </thead>\n",
       "  <tbody>\n",
       "    <tr>\n",
       "      <th>0</th>\n",
       "      <td>159895</td>\n",
       "      <td>63342</td>\n",
       "      <td>3006</td>\n",
       "      <td>2516</td>\n",
       "      <td>351</td>\n",
       "      <td>0.674017</td>\n",
       "    </tr>\n",
       "    <tr>\n",
       "      <th>1</th>\n",
       "      <td>120701</td>\n",
       "      <td>84914</td>\n",
       "      <td>3982</td>\n",
       "      <td>2850</td>\n",
       "      <td>386</td>\n",
       "      <td>0.363246</td>\n",
       "    </tr>\n",
       "    <tr>\n",
       "      <th>2</th>\n",
       "      <td>52531</td>\n",
       "      <td>27906</td>\n",
       "      <td>3719</td>\n",
       "      <td>3723</td>\n",
       "      <td>505</td>\n",
       "      <td>0.433085</td>\n",
       "    </tr>\n",
       "    <tr>\n",
       "      <th>3</th>\n",
       "      <td>115098</td>\n",
       "      <td>155221</td>\n",
       "      <td>376</td>\n",
       "      <td>169</td>\n",
       "      <td>7</td>\n",
       "      <td>1.538444</td>\n",
       "    </tr>\n",
       "    <tr>\n",
       "      <th>4</th>\n",
       "      <td>29644</td>\n",
       "      <td>147189</td>\n",
       "      <td>3618</td>\n",
       "      <td>3079</td>\n",
       "      <td>716</td>\n",
       "      <td>0.999665</td>\n",
       "    </tr>\n",
       "    <tr>\n",
       "      <th>...</th>\n",
       "      <td>...</td>\n",
       "      <td>...</td>\n",
       "      <td>...</td>\n",
       "      <td>...</td>\n",
       "      <td>...</td>\n",
       "      <td>...</td>\n",
       "    </tr>\n",
       "    <tr>\n",
       "      <th>408768</th>\n",
       "      <td>30205</td>\n",
       "      <td>173206</td>\n",
       "      <td>3818</td>\n",
       "      <td>4343</td>\n",
       "      <td>665</td>\n",
       "      <td>0.528007</td>\n",
       "    </tr>\n",
       "    <tr>\n",
       "      <th>408769</th>\n",
       "      <td>26900</td>\n",
       "      <td>33234</td>\n",
       "      <td>2702</td>\n",
       "      <td>590</td>\n",
       "      <td>66</td>\n",
       "      <td>0.559807</td>\n",
       "    </tr>\n",
       "    <tr>\n",
       "      <th>408770</th>\n",
       "      <td>151395</td>\n",
       "      <td>81844</td>\n",
       "      <td>2958</td>\n",
       "      <td>1750</td>\n",
       "      <td>182</td>\n",
       "      <td>0.396389</td>\n",
       "    </tr>\n",
       "    <tr>\n",
       "      <th>408771</th>\n",
       "      <td>30904</td>\n",
       "      <td>121287</td>\n",
       "      <td>616</td>\n",
       "      <td>2302</td>\n",
       "      <td>45</td>\n",
       "      <td>0.293904</td>\n",
       "    </tr>\n",
       "    <tr>\n",
       "      <th>408772</th>\n",
       "      <td>46780</td>\n",
       "      <td>183925</td>\n",
       "      <td>915</td>\n",
       "      <td>246</td>\n",
       "      <td>12</td>\n",
       "      <td>0.812673</td>\n",
       "    </tr>\n",
       "  </tbody>\n",
       "</table>\n",
       "<p>408773 rows × 6 columns</p>\n",
       "</div>"
      ],
      "text/plain": [
       "         puz_a   puz_b  users_a  users_b  users_a_b       pmi\n",
       "0       159895   63342     3006     2516        351  0.674017\n",
       "1       120701   84914     3982     2850        386  0.363246\n",
       "2        52531   27906     3719     3723        505  0.433085\n",
       "3       115098  155221      376      169          7  1.538444\n",
       "4        29644  147189     3618     3079        716  0.999665\n",
       "...        ...     ...      ...      ...        ...       ...\n",
       "408768   30205  173206     3818     4343        665  0.528007\n",
       "408769   26900   33234     2702      590         66  0.559807\n",
       "408770  151395   81844     2958     1750        182  0.396389\n",
       "408771   30904  121287      616     2302         45  0.293904\n",
       "408772   46780  183925      915      246         12  0.812673\n",
       "\n",
       "[408773 rows x 6 columns]"
      ]
     },
     "execution_count": 8,
     "metadata": {},
     "output_type": "execute_result"
    }
   ],
   "source": [
    "ppmi = pd.read_csv(PPMI_TAB).drop('Unnamed: 0',axis=1)\n",
    "ppmi"
   ]
  },
  {
   "cell_type": "code",
   "execution_count": 9,
   "metadata": {},
   "outputs": [
    {
     "data": {
      "application/vnd.jupyter.widget-view+json": {
       "model_id": "42e19ef1bee24547844fac51cad7890a",
       "version_major": 2,
       "version_minor": 0
      },
      "text/plain": [
       "HBox(children=(FloatProgress(value=0.0, max=1.0), HTML(value='')))"
      ]
     },
     "metadata": {},
     "output_type": "display_data"
    },
    {
     "name": "stdout",
     "output_type": "stream",
     "text": [
      "\n"
     ]
    }
   ],
   "source": [
    "#Assess PPMI\n",
    "\n",
    "#Load PMI\n",
    "\n",
    "\n",
    "def assess_ppmi(embedding):\n",
    "    vecs_a = embedding.reindex(ppmi[\"puz_a\"].astype(int))\n",
    "    vecs_b = embedding.reindex(ppmi[\"puz_b\"].astype(int))\n",
    "    cosines = np.multiply(vecs_a, vecs_b).sum(1)\n",
    "    ppmis = ppmi[\"pmi\"]\n",
    "    \n",
    "    corr = np.corrcoef(cosines, ppmis)\n",
    "    return corr[0,1]\n",
    "    \n",
    "    \n",
    "assessment_scores = np.array(list(map(assess_ppmi, tqdm(loaded_embeddings))))"
   ]
  },
  {
   "cell_type": "code",
   "execution_count": 11,
   "metadata": {},
   "outputs": [
    {
     "data": {
      "text/plain": [
       "array([0.6979398])"
      ]
     },
     "execution_count": 11,
     "metadata": {},
     "output_type": "execute_result"
    }
   ],
   "source": [
    "assessment_scores"
   ]
  },
  {
   "cell_type": "code",
   "execution_count": 19,
   "metadata": {},
   "outputs": [
    {
     "data": {
      "image/png": "[encoded data removed]",
      "text/plain": [
       "<Figure size 576x576 with 2 Axes>"
      ]
     },
     "metadata": {
      "needs_background": "light"
     },
     "output_type": "display_data"
    }
   ],
   "source": [
    "import matplotlib.pyplot as plt\n",
    "#grid = np.arange(0, len(all_embeddings)).reshape((len(param3_values), len(param4_values)))\n",
    "grid = np.arange(0, len(all_embeddings)).reshape((len(param1_values), len(param2_values)))\n",
    "\n",
    "scores = assessment_scores.copy()\n",
    "plt.figure(figsize=(8,8))\n",
    "plt.imshow(scores[grid])\n",
    "#plt.yticks(np.arange(0, len(param3_values)), [\"%d\" % d for d in param3_values])\n",
    "plt.yticks(np.arange(0, len(param1_values)), [\"%.2f\" % d for d in param1_values])\n",
    "#plt.xticks(np.arange(0, len(param4_values)), [\"%.9f\" % d for d in param4_values])\n",
    "plt.xticks(np.arange(0, len(param2_values)), [\"%d\" % d for d in param2_values])\n",
    "#plt.ylabel(param3)\n",
    "plt.ylabel(param1)\n",
    "#plt.xlabel(param4)\n",
    "plt.xlabel(param2)\n",
    "plt.colorbar()\n",
    "plt.show()"
   ]
  },
  {
   "cell_type": "code",
   "execution_count": 27,
   "metadata": {},
   "outputs": [
    {
     "data": {
      "text/plain": [
       "array([[ 0,  1,  2,  3,  4],\n",
       "       [ 5,  6,  7,  8,  9],\n",
       "       [10, 11, 12, 13, 14],\n",
       "       [15, 16, 17, 18, 19],\n",
       "       [20, 21, 22, 23, 24]])"
      ]
     },
     "execution_count": 27,
     "metadata": {},
     "output_type": "execute_result"
    }
   ],
   "source": [
    "grid"
   ]
  },
  {
   "cell_type": "code",
   "execution_count": 55,
   "metadata": {},
   "outputs": [
    {
     "data": {
      "text/plain": [
       "<Figure size 432x288 with 0 Axes>"
      ]
     },
     "metadata": {},
     "output_type": "display_data"
    }
   ],
   "source": [
    "#plt.savefig('5_5_correlation_matrix_size_alpha.png')\n",
    "plt.savefig('5_5_correlation_matrix_negative_sample_size_250_alpha_0.15.png')"
   ]
  },
  {
   "cell_type": "code",
   "execution_count": null,
   "metadata": {},
   "outputs": [],
   "source": [
    "def cosine_similarities(embedding):\n",
    "    vecs_a = embedding.reindex(ppmi[\"puz_a\"].astype(int))\n",
    "    vecs_b = embedding.reindex(ppmi[\"puz_b\"].astype(int))\n",
    "    cosines = np.multiply(vecs_a, vecs_b).sum(1)\n",
    "    return cosines\n",
    "\n",
    "cos_sim = np.array(list(map(cosine_similarities, tqdm(loaded_embeddings))))"
   ]
  },
  {
   "cell_type": "code",
   "execution_count": 60,
   "metadata": {},
   "outputs": [
    {
     "data": {
      "text/plain": [
       "array([0.77042279, 0.60559717, 0.37939813, ..., 0.67443264, 0.57945318,\n",
       "       0.82181196])"
      ]
     },
     "execution_count": 60,
     "metadata": {},
     "output_type": "execute_result"
    }
   ],
   "source": [
    "cos_sim[0]"
   ]
  },
  {
   "cell_type": "code",
   "execution_count": null,
   "metadata": {},
   "outputs": [],
   "source": [
    "small_puz_a = ppmi.iloc[0:50,0]\n",
    "small_puz_b = ppmi.iloc[0:50,0]"
   ]
  },
  {
   "cell_type": "code",
   "execution_count": 26,
   "metadata": {
    "scrolled": true
   },
   "outputs": [
    {
     "data": {
      "image/png": "[encoded data removed]",
      "text/plain": [
       "<Figure size 3600x3600 with 2 Axes>"
      ]
     },
     "metadata": {
      "needs_background": "light"
     },
     "output_type": "display_data"
    }
   ],
   "source": [
    "ind = 0\n",
    "for i in range(2,3):\n",
    "    for j in range(1,2):\n",
    "        p3 = param1_values[i]\n",
    "        p4 = param2_values[j]\n",
    "\n",
    "        grid = np.arange(0, len(small_puz_a) * len(small_puz_b)).reshape((len(small_puz_a), len(small_puz_b)))\n",
    "\n",
    "        similarity_scores = cos_sim[ind].copy()\n",
    "        ind = ind + 1\n",
    "        plt.figure(figsize=(50,50))\n",
    "        plt.imshow(similarity_scores[grid])\n",
    "        plt.yticks(np.arange(0, len(small_puz_b)), [\"%d\" % d for d in small_puz_b])\n",
    "        plt.xticks(np.arange(0, len(small_puz_a)), [\"%d\" % d for d in small_puz_a])\n",
    "        plt.ylabel(\"id_puz_b\")\n",
    "        plt.xlabel(\"id_puz_a\")\n",
    "        plt.colorbar()\n",
    "        plt.show()\n",
    "\n",
    "        \n",
    "#plt.savefig('50_50_cosine_similarity_negative_20_sample_0.1_size_250_alpha_0.15.png')        "
   ]
  },
  {
   "cell_type": "markdown",
   "metadata": {},
   "source": [
    "<h2>Prepare Data for Projector</h2>"
   ]
  },
  {
   "cell_type": "code",
   "execution_count": 12,
   "metadata": {},
   "outputs": [],
   "source": [
    "#vectors = pd.read_csv(\"word2vecf/vectors/dim200puzzlevec\", sep=' ', header=None, skiprows=1)\n",
    "#Remove Empty column at end of file\n",
    "\n",
    "#vectors = vectors.drop(vectors.shape[1]-1,axis=1)\n",
    "#Create puzzle_vocabulary data frame from first column of vectors and then remove vector id column from vectors\n",
    "max_index = np.where(assessment_scores == max(assessment_scores))[0][0]\n",
    "vectors = loaded_embeddings[max_index]\n",
    "vectors.reset_index(level=0, inplace=True)\n",
    "vectors.rename(columns={0:'tactics_problem_id'}, inplace=True)\n",
    "puzzle_vocabulary_pd = vectors['tactics_problem_id'].to_frame().astype('int32').set_index(\"tactics_problem_id\")\n",
    "vectors = vectors.drop('tactics_problem_id',axis=1)"
   ]
  },
  {
   "cell_type": "code",
   "execution_count": 13,
   "metadata": {},
   "outputs": [
    {
     "data": {
      "text/plain": [
       "(42278, 265)"
      ]
     },
     "execution_count": 13,
     "metadata": {},
     "output_type": "execute_result"
    }
   ],
   "source": [
    "vectors.shape"
   ]
  },
  {
   "cell_type": "markdown",
   "metadata": {},
   "source": [
    "<h2>Load Puzzle MetaData</h2>"
   ]
  },
  {
   "cell_type": "code",
   "execution_count": 14,
   "metadata": {},
   "outputs": [],
   "source": [
    "#Load Fen Data\n",
    "fen_data = pd.read_csv('/w/225/1/chess/tactics/tactics_problem.csv')"
   ]
  },
  {
   "cell_type": "code",
   "execution_count": 15,
   "metadata": {},
   "outputs": [
    {
     "name": "stdout",
     "output_type": "stream",
     "text": [
      "['https://lichess.org/analysis/r1b2rk1/ppp2ppp/1b3N2/3q4/3p4/Q4N2/PPP2KPP/R1B1R3_b_-_-_0_12'\n",
      " 'https://lichess.org/analysis/r6k/1q1n1prp/p3pN1Q/1p1b4/6R1/6P1/PP2PP1P/3R2K1_b_-_-_1_1'\n",
      " 'https://lichess.org/analysis/3rr1k1/ppp2ppp/8/5Q2/4n3/1B5R/PPP2PP1/5qK1_w_-_-_1_2'\n",
      " ...\n",
      " 'https://lichess.org/analysis/5r2/8/p2pBbkp/3P2p1/3n4/B7/P4PPP/4R1K1_b_-_-_4_34'\n",
      " 'https://lichess.org/analysis/r1b2r2/pp4k1/1bpp1q1p/5ppQ/2B2NN1/2P5/P5PP/R1B1R2K_b_-_-_2_22'\n",
      " 'https://lichess.org/analysis/r2q1bk1/p6p/1p2pNp1/2p1Q3/3n2P1/1P6/PBPP3P/5RK1_b_-_-_1_19']\n"
     ]
    }
   ],
   "source": [
    "#Extract PGN and FEN\n",
    "import re\n",
    "old_pgn = fen_data['pgn']\n",
    "new_pgn = np.array([])\n",
    "for i in range(0,len(old_pgn)):\n",
    "    old_fen = old_pgn[i]\n",
    "    try:\n",
    "        string = re.search('\\[FEN \\\"(.+?)\\\"\\]', old_fen).group(1)\n",
    "        string = string.replace(' ','_')\n",
    "        #print(string)\n",
    "    except:\n",
    "        string = ''\n",
    "    new_pgn = np.append(new_pgn,'https://lichess.org/analysis/' + string)\n",
    "print(new_pgn)\n"
   ]
  },
  {
   "cell_type": "code",
   "execution_count": 16,
   "metadata": {},
   "outputs": [],
   "source": [
    "#np.save('fen_links.npy',new_pgn)\n",
    "#Add FEN Data to \n",
    "#new_pgn = np.load('fen_links.npy')\n",
    "fen_data['pgn'] = new_pgn\n",
    "fen_data.rename(columns={'pgn':'fen'}, inplace=True)"
   ]
  },
  {
   "cell_type": "code",
   "execution_count": 17,
   "metadata": {},
   "outputs": [],
   "source": [
    "#puzzle_vocabulary_pd = puzzle_vocabulary_pd.join(tag_data.set_index('tactics_problem_id'))\n",
    "puzzle_vocabulary_pd = puzzle_vocabulary_pd.join(fen_data.set_index('tactics_problem_id'))"
   ]
  },
  {
   "cell_type": "code",
   "execution_count": 18,
   "metadata": {},
   "outputs": [],
   "source": [
    "#IMPORTANT remove empty values, causes issues with projector\n",
    "puzzle_vocabulary_pd = puzzle_vocabulary_pd.replace(np.nan, 0,regex=True)\n",
    "puzzle_vocabulary_pd.reset_index(level=0, inplace=True)"
   ]
  },
  {
   "cell_type": "code",
   "execution_count": 19,
   "metadata": {},
   "outputs": [
    {
     "name": "stdout",
     "output_type": "stream",
     "text": [
      "tactics_problem_id    0\n",
      "rating                0\n",
      "rd                    0\n",
      "attempt_count         0\n",
      "average_seconds       0\n",
      "move_count            0\n",
      "tags                  0\n",
      "fen                   0\n",
      "dtype: int64\n"
     ]
    },
    {
     "data": {
      "text/html": [
       "<div>\n",
       "<style scoped>\n",
       "    .dataframe tbody tr th:only-of-type {\n",
       "        vertical-align: middle;\n",
       "    }\n",
       "\n",
       "    .dataframe tbody tr th {\n",
       "        vertical-align: top;\n",
       "    }\n",
       "\n",
       "    .dataframe thead th {\n",
       "        text-align: right;\n",
       "    }\n",
       "</style>\n",
       "<table border=\"1\" class=\"dataframe\">\n",
       "  <thead>\n",
       "    <tr style=\"text-align: right;\">\n",
       "      <th></th>\n",
       "      <th>tactics_problem_id</th>\n",
       "      <th>rating</th>\n",
       "      <th>rd</th>\n",
       "      <th>attempt_count</th>\n",
       "      <th>average_seconds</th>\n",
       "      <th>move_count</th>\n",
       "      <th>tags</th>\n",
       "      <th>fen</th>\n",
       "    </tr>\n",
       "  </thead>\n",
       "  <tbody>\n",
       "    <tr>\n",
       "      <th>0</th>\n",
       "      <td>731</td>\n",
       "      <td>1569.0</td>\n",
       "      <td>44.96</td>\n",
       "      <td>53336.0</td>\n",
       "      <td>41.0</td>\n",
       "      <td>3.0</td>\n",
       "      <td>Attacking f7/f2,Attacking Castled King,Back Ra...</td>\n",
       "      <td>https://lichess.org/analysis/r1b2rk1/ppp2ppp/1...</td>\n",
       "    </tr>\n",
       "    <tr>\n",
       "      <th>1</th>\n",
       "      <td>746</td>\n",
       "      <td>876.0</td>\n",
       "      <td>43.96</td>\n",
       "      <td>329720.0</td>\n",
       "      <td>46.0</td>\n",
       "      <td>1.0</td>\n",
       "      <td>Pin</td>\n",
       "      <td>https://lichess.org/analysis/r3k2r/ppp1b2p/2n1...</td>\n",
       "    </tr>\n",
       "    <tr>\n",
       "      <th>2</th>\n",
       "      <td>27811</td>\n",
       "      <td>1087.0</td>\n",
       "      <td>45.58</td>\n",
       "      <td>234263.0</td>\n",
       "      <td>92.0</td>\n",
       "      <td>2.0</td>\n",
       "      <td>Decoy / Deflection,Fork / Double Attack</td>\n",
       "      <td>https://lichess.org/analysis/r4rk1/p4pp1/5q1p/...</td>\n",
       "    </tr>\n",
       "    <tr>\n",
       "      <th>3</th>\n",
       "      <td>905</td>\n",
       "      <td>873.0</td>\n",
       "      <td>43.31</td>\n",
       "      <td>367968.0</td>\n",
       "      <td>60.0</td>\n",
       "      <td>3.0</td>\n",
       "      <td>Remove the Defender</td>\n",
       "      <td>https://lichess.org/analysis/2r3k1/8/5P2/Q3P2p...</td>\n",
       "    </tr>\n",
       "    <tr>\n",
       "      <th>4</th>\n",
       "      <td>48779</td>\n",
       "      <td>1244.0</td>\n",
       "      <td>45.65</td>\n",
       "      <td>230125.0</td>\n",
       "      <td>72.0</td>\n",
       "      <td>4.0</td>\n",
       "      <td>Decoy / Deflection,Endgame Tactics,Pawn Promot...</td>\n",
       "      <td>https://lichess.org/analysis/8/6b1/6P1/B7/P1k5...</td>\n",
       "    </tr>\n",
       "  </tbody>\n",
       "</table>\n",
       "</div>"
      ],
      "text/plain": [
       "   tactics_problem_id  rating     rd  attempt_count  average_seconds  \\\n",
       "0                 731  1569.0  44.96        53336.0             41.0   \n",
       "1                 746   876.0  43.96       329720.0             46.0   \n",
       "2               27811  1087.0  45.58       234263.0             92.0   \n",
       "3                 905   873.0  43.31       367968.0             60.0   \n",
       "4               48779  1244.0  45.65       230125.0             72.0   \n",
       "\n",
       "   move_count                                               tags  \\\n",
       "0         3.0  Attacking f7/f2,Attacking Castled King,Back Ra...   \n",
       "1         1.0                                                Pin   \n",
       "2         2.0            Decoy / Deflection,Fork / Double Attack   \n",
       "3         3.0                                Remove the Defender   \n",
       "4         4.0  Decoy / Deflection,Endgame Tactics,Pawn Promot...   \n",
       "\n",
       "                                                 fen  \n",
       "0  https://lichess.org/analysis/r1b2rk1/ppp2ppp/1...  \n",
       "1  https://lichess.org/analysis/r3k2r/ppp1b2p/2n1...  \n",
       "2  https://lichess.org/analysis/r4rk1/p4pp1/5q1p/...  \n",
       "3  https://lichess.org/analysis/2r3k1/8/5P2/Q3P2p...  \n",
       "4  https://lichess.org/analysis/8/6b1/6P1/B7/P1k5...  "
      ]
     },
     "execution_count": 19,
     "metadata": {},
     "output_type": "execute_result"
    }
   ],
   "source": [
    "#Set data types back to int32 for numeric columns\n",
    "puzzle_vocabulary_pd.astype({'rating': 'int32','attempt_count': 'int32','average_seconds':'int32','move_count':'int32'}).dtypes\n",
    "#Check for Null values\n",
    "print(len(puzzle_vocabulary_pd) - puzzle_vocabulary_pd.count())\n",
    "puzzle_vocabulary_pd.head()"
   ]
  },
  {
   "cell_type": "markdown",
   "metadata": {},
   "source": [
    "<h2>Save Files for Projector</h2>"
   ]
  },
  {
   "cell_type": "code",
   "execution_count": 22,
   "metadata": {},
   "outputs": [],
   "source": [
    "meta_name = 'dim265meta_tuned.tsv'\n",
    "vec_name = 'dim265vectors_tuned.tsv'\n",
    "\n",
    "#Save Metadata\n",
    "puzzle_vocabulary_pd.to_csv(\n",
    "        meta_name,\n",
    "        sep='\\t',\n",
    "        index=False,\n",
    "        header=True,\n",
    "        encoding='utf-8'\n",
    "    )\n",
    "\n",
    "#Save vectors\n",
    "vectors.to_csv(\n",
    "        vec_name,\n",
    "        sep='\\t',\n",
    "        index=False,\n",
    "        header=False,\n",
    "        encoding='utf-8'\n",
    "    )"
   ]
  },
  {
   "cell_type": "code",
   "execution_count": 28,
   "metadata": {},
   "outputs": [
    {
     "ename": "FileNotFoundError",
     "evalue": "[Errno 2] No such file or directory: 'https://github.com/StevenWuzz/chess_dim_skill/puzzle_265_config.json'",
     "output_type": "error",
     "traceback": [
      "\u001b[0;31m---------------------------------------------------------------------------\u001b[0m",
      "\u001b[0;31mFileNotFoundError\u001b[0m                         Traceback (most recent call last)",
      "\u001b[0;32m<ipython-input-28-ad84874096b6>\u001b[0m in \u001b[0;36m<module>\u001b[0;34m\u001b[0m\n\u001b[1;32m     11\u001b[0m   })\n\u001b[1;32m     12\u001b[0m \u001b[0;34m\u001b[0m\u001b[0m\n\u001b[0;32m---> 13\u001b[0;31m \u001b[0;32mwith\u001b[0m \u001b[0mopen\u001b[0m\u001b[0;34m(\u001b[0m\u001b[0;34m'https://github.com/StevenWuzz/chess_dim_skill/puzzle_265_config.json'\u001b[0m\u001b[0;34m,\u001b[0m \u001b[0;34m\"w+\"\u001b[0m\u001b[0;34m)\u001b[0m \u001b[0;32mas\u001b[0m \u001b[0mtext_file\u001b[0m\u001b[0;34m:\u001b[0m\u001b[0;34m\u001b[0m\u001b[0;34m\u001b[0m\u001b[0m\n\u001b[0m\u001b[1;32m     14\u001b[0m     \u001b[0mtext_file\u001b[0m\u001b[0;34m.\u001b[0m\u001b[0mwrite\u001b[0m\u001b[0;34m(\u001b[0m\u001b[0mjson\u001b[0m\u001b[0;34m.\u001b[0m\u001b[0mdumps\u001b[0m\u001b[0;34m(\u001b[0m\u001b[0;34m{\u001b[0m\u001b[0;34m\"embeddings\"\u001b[0m\u001b[0;34m:\u001b[0m \u001b[0membeddings\u001b[0m\u001b[0;34m}\u001b[0m\u001b[0;34m)\u001b[0m\u001b[0;34m)\u001b[0m\u001b[0;34m\u001b[0m\u001b[0;34m\u001b[0m\u001b[0m\n",
      "\u001b[0;31mFileNotFoundError\u001b[0m: [Errno 2] No such file or directory: 'https://github.com/StevenWuzz/chess_dim_skill/puzzle_265_config.json'"
     ]
    }
   ],
   "source": [
    "#Generate Config For Projector\n",
    "import json\n",
    "embeddings = []\n",
    "embeddings.append({\"tensorName\": \"Chess Puzzle Embeddings Tuned\",\n",
    "      \"tensorShape\": [\n",
    "        vectors.shape[0],\n",
    "        vectors.shape[1]\n",
    "      ],\n",
    "      \"tensorPath\": \"https://github.com/StevenWuzz/chess_dim_skill/tree/master/\" + vec_name,\n",
    "      \"metadataPath\": \"https://github.com/StevenWuzz/chess_dim_skill/tree/master/\" + meta_name,\n",
    "  })\n",
    "\n",
    "with open('https://github.com/StevenWuzz/chess_dim_skill/puzzle_265_config.json', \"w+\") as text_file:\n",
    "    text_file.write(json.dumps({\"embeddings\": embeddings}))"
   ]
  },
  {
   "cell_type": "code",
   "execution_count": null,
   "metadata": {},
   "outputs": [],
   "source": [
    "https://projector.tensorflow.org/?config=https://raw.githubusercontent.com/StevenWuzz/chess_dim_skill/master/puzzle_265_config.json"
   ]
  }
 ],
 "metadata": {
  "kernelspec": {
   "display_name": "Python 3",
   "language": "python",
   "name": "python3"
  },
  "language_info": {
   "codemirror_mode": {
    "name": "ipython",
    "version": 3
   },
   "file_extension": ".py",
   "mimetype": "text/x-python",
   "name": "python",
   "nbconvert_exporter": "python",
   "pygments_lexer": "ipython3",
   "version": "3.8.2"
  }
 },
 "nbformat": 4,
 "nbformat_minor": 4
}
