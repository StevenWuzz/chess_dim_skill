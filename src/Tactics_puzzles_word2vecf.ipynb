{
 "cells": [
  {
   "cell_type": "markdown",
   "metadata": {},
   "source": [
    "<h1>Word2Vecf on Chess Puzzle Data</h1>"
   ]
  },
  {
   "cell_type": "code",
   "execution_count": 2,
   "metadata": {},
   "outputs": [],
   "source": [
    "#Word 2 Vec F test\n",
    "import numpy as np\n",
    "import pandas as pd"
   ]
  },
  {
   "cell_type": "markdown",
   "metadata": {},
   "source": [
    "<h2>Run Word2Vecf </h2>"
   ]
  },
  {
   "cell_type": "code",
   "execution_count": 2,
   "metadata": {},
   "outputs": [
    {
     "name": "stdout",
     "output_type": "stream",
     "text": [
      "b'Starting training using file train_data\\nVocab size: 35362\\nWord count: 5630373\\nVocab size: 75165\\nWord count: 5630373\\nthread 0 69\\nthread 5 40016793\\nthread 6 48020153\\nthread 9 72030216\\nthread 4 32013420\\nthread 7 56023496\\nthread 2 16006751\\nthread 3 24010095\\nthread 10 80033547\\nthread 8 64026844\\nthread 12 96040279\\nthread 1 8003366\\nthread 11 88036889\\nthread 20 160067042\\nthread 14 112046956\\nthread 16 128053660\\nthread 13 104043599\\nthread 26 208087187\\nthread 25 200083833\\nthread 18 144060375\\nthread 22 176073798\\nthread 33 264110665\\nthread 17 136056985\\nthread 21 168070443\\nthread 15 120050333\\nthread 32 256107288\\nthread 19 152063748\\nthread 23 184077152\\nthread 27 216090528\\nthread 36 288120735\\nthread 31 248103981\\nthread 28 224093860\\nthread 29 232097263\\nthread 35 280117385\\nthread 37 296124077\\nthread 41 328137468\\nthread 40 320134138\\nthread 44 352147525\\nthread 24 192080491\\nthread 45 360150893\\nthread 34 272113989\\nthread 46 368154194\\nthread 43 344144138\\n\\rAlpha: 0.260000  Progress: 0.18%  Words/thread/sec: 3.40k  thread 38 304127416\\nthread 39 312130794\\nthread 48 384160942\\n\\rAlpha: 0.259538  Progress: 0.36%  Words/thread/sec: 5.07k  thread 30 240100583\\nthread 42 336140830\\nthread 47 376157607\\n\\rAlpha: 0.259076  Progress: 0.53%  Words/thread/sec: 5.99k  \\rAlpha: 0.258615  Progress: 0.71%  Words/thread/sec: 7.81k  \\rAlpha: 0.258153  Progress: 0.89%  Words/thread/sec: 9.64k  \\rAlpha: 0.257691  Progress: 1.07%  Words/thread/sec: 10.29k  \\rAlpha: 0.257229  Progress: 1.24%  Words/thread/sec: 10.90k  \\rAlpha: 0.256767  Progress: 1.42%  Words/thread/sec: 12.01k  \\rAlpha: 0.256305  Progress: 1.60%  Words/thread/sec: 13.04k  \\rAlpha: 0.255844  Progress: 1.78%  Words/thread/sec: 14.37k  \\rAlpha: 0.255382  Progress: 1.95%  Words/thread/sec: 15.28k  \\rAlpha: 0.254920  Progress: 2.13%  Words/thread/sec: 16.41k  \\rAlpha: 0.254458  Progress: 2.31%  Words/thread/sec: 17.35k  \\rAlpha: 0.253996  Progress: 2.49%  Words/thread/sec: 18.55k  \\rAlpha: 0.253534  Progress: 2.66%  Words/thread/sec: 19.85k  \\rAlpha: 0.253073  Progress: 2.84%  Words/thread/sec: 20.86k  \\rAlpha: 0.252611  Progress: 3.02%  Words/thread/sec: 21.68k  \\rAlpha: 0.252149  Progress: 3.20%  Words/thread/sec: 22.93k  \\rAlpha: 0.251687  Progress: 3.37%  Words/thread/sec: 23.86k  \\rAlpha: 0.251225  Progress: 3.55%  Words/thread/sec: 23.87k  \\rAlpha: 0.250763  Progress: 3.73%  Words/thread/sec: 25.05k  \\rAlpha: 0.250302  Progress: 3.91%  Words/thread/sec: 25.88k  \\rAlpha: 0.249840  Progress: 4.09%  Words/thread/sec: 25.53k  \\rAlpha: 0.249378  Progress: 4.26%  Words/thread/sec: 26.17k  \\rAlpha: 0.248916  Progress: 4.44%  Words/thread/sec: 26.56k  \\rAlpha: 0.248454  Progress: 4.62%  Words/thread/sec: 27.13k  \\rAlpha: 0.247992  Progress: 4.80%  Words/thread/sec: 27.82k  \\rAlpha: 0.247531  Progress: 4.97%  Words/thread/sec: 28.50k  \\rAlpha: 0.247069  Progress: 5.15%  Words/thread/sec: 29.16k  \\rAlpha: 0.246607  Progress: 5.33%  Words/thread/sec: 30.00k  \\rAlpha: 0.246145  Progress: 5.51%  Words/thread/sec: 30.46k  \\rAlpha: 0.245683  Progress: 5.68%  Words/thread/sec: 31.24k  \\rAlpha: 0.245222  Progress: 5.86%  Words/thread/sec: 32.04k  \\rAlpha: 0.244760  Progress: 6.04%  Words/thread/sec: 32.65k  \\rAlpha: 0.244298  Progress: 6.22%  Words/thread/sec: 33.21k  \\rAlpha: 0.243836  Progress: 6.39%  Words/thread/sec: 33.79k  \\rAlpha: 0.243374  Progress: 6.57%  Words/thread/sec: 33.90k  \\rAlpha: 0.242912  Progress: 6.75%  Words/thread/sec: 33.96k  \\rAlpha: 0.242451  Progress: 6.93%  Words/thread/sec: 34.85k  \\rAlpha: 0.241989  Progress: 7.11%  Words/thread/sec: 35.39k  \\rAlpha: 0.241527  Progress: 7.28%  Words/thread/sec: 36.27k  \\rAlpha: 0.241065  Progress: 7.46%  Words/thread/sec: 36.60k  \\rAlpha: 0.240603  Progress: 7.64%  Words/thread/sec: 36.96k  \\rAlpha: 0.240141  Progress: 7.82%  Words/thread/sec: 37.64k  \\rAlpha: 0.239680  Progress: 7.99%  Words/thread/sec: 38.12k  \\rAlpha: 0.239218  Progress: 8.17%  Words/thread/sec: 38.37k  \\rAlpha: 0.238756  Progress: 8.35%  Words/thread/sec: 37.86k  \\rAlpha: 0.238294  Progress: 8.53%  Words/thread/sec: 38.64k  \\rAlpha: 0.237832  Progress: 8.70%  Words/thread/sec: 39.27k  \\rAlpha: 0.237370  Progress: 8.88%  Words/thread/sec: 40.05k  \\rAlpha: 0.236909  Progress: 9.06%  Words/thread/sec: 39.47k  \\rAlpha: 0.236447  Progress: 9.24%  Words/thread/sec: 39.48k  \\rAlpha: 0.235985  Progress: 9.41%  Words/thread/sec: 39.47k  \\rAlpha: 0.235523  Progress: 9.59%  Words/thread/sec: 40.03k  \\rAlpha: 0.235061  Progress: 9.77%  Words/thread/sec: 40.03k  \\rAlpha: 0.234600  Progress: 9.95%  Words/thread/sec: 40.38k  \\rAlpha: 0.234138  Progress: 10.12%  Words/thread/sec: 40.73k  \\rAlpha: 0.233676  Progress: 10.30%  Words/thread/sec: 41.25k  \\rAlpha: 0.233214  Progress: 10.48%  Words/thread/sec: 41.95k  \\rAlpha: 0.232752  Progress: 10.66%  Words/thread/sec: 41.91k  \\rAlpha: 0.232290  Progress: 10.84%  Words/thread/sec: 41.88k  \\rAlpha: 0.231829  Progress: 11.01%  Words/thread/sec: 42.21k  \\rAlpha: 0.231367  Progress: 11.19%  Words/thread/sec: 42.87k  \\rAlpha: 0.230905  Progress: 11.37%  Words/thread/sec: 42.83k  \\rAlpha: 0.230443  Progress: 11.55%  Words/thread/sec: 43.13k  \\rAlpha: 0.229981  Progress: 11.72%  Words/thread/sec: 43.42k  \\rAlpha: 0.229519  Progress: 11.90%  Words/thread/sec: 43.71k  \\rAlpha: 0.229058  Progress: 12.08%  Words/thread/sec: 44.35k  \\rAlpha: 0.228596  Progress: 12.26%  Words/thread/sec: 44.11k  \\rAlpha: 0.228134  Progress: 12.43%  Words/thread/sec: 44.04k  \\rAlpha: 0.227672  Progress: 12.61%  Words/thread/sec: 44.49k  \\rAlpha: 0.227210  Progress: 12.79%  Words/thread/sec: 44.58k  \\rAlpha: 0.226748  Progress: 12.97%  Words/thread/sec: 44.87k  \\rAlpha: 0.226287  Progress: 13.14%  Words/thread/sec: 44.94k  \\rAlpha: 0.225825  Progress: 13.32%  Words/thread/sec: 44.88k  \\rAlpha: 0.225363  Progress: 13.50%  Words/thread/sec: 45.47k  \\rAlpha: 0.224439  Progress: 13.85%  Words/thread/sec: 46.31k  \\rAlpha: 0.225363  Progress: 13.68%  Words/thread/sec: 45.89k  \\rAlpha: 0.223977  Progress: 14.03%  Words/thread/sec: 46.05k  \\rAlpha: 0.223516  Progress: 14.21%  Words/thread/sec: 45.45k  \\rAlpha: 0.223054  Progress: 14.39%  Words/thread/sec: 45.05k  \\rAlpha: 0.222592  Progress: 14.57%  Words/thread/sec: 45.46k  \\rAlpha: 0.222130  Progress: 14.74%  Words/thread/sec: 45.21k  \\rAlpha: 0.221668  Progress: 14.92%  Words/thread/sec: 45.60k  \\rAlpha: 0.221207  Progress: 15.10%  Words/thread/sec: 45.05k  \\rAlpha: 0.220745  Progress: 15.28%  Words/thread/sec: 44.54k  \\rAlpha: 0.220283  Progress: 15.45%  Words/thread/sec: 44.44k  \\rAlpha: 0.220283  Progress: 15.63%  Words/thread/sec: 44.85k  \\rAlpha: 0.220283  Progress: 15.81%  Words/thread/sec: 45.35k  \\rAlpha: 0.218897  Progress: 15.99%  Words/thread/sec: 45.27k  \\rAlpha: 0.218436  Progress: 16.16%  Words/thread/sec: 45.49k  \\rAlpha: 0.217974  Progress: 16.34%  Words/thread/sec: 45.85k  \\rAlpha: 0.217512  Progress: 16.52%  Words/thread/sec: 46.19k  \\rAlpha: 0.217050  Progress: 16.70%  Words/thread/sec: 46.56k  \\rAlpha: 0.216588  Progress: 16.87%  Words/thread/sec: 47.05k  \\rAlpha: 0.216126  Progress: 17.05%  Words/thread/sec: 47.40k  \\rAlpha: 0.215665  Progress: 17.23%  Words/thread/sec: 47.30k  \\rAlpha: 0.215203  Progress: 17.41%  Words/thread/sec: 47.05k  \\rAlpha: 0.214741  Progress: 17.58%  Words/thread/sec: 46.98k  \\rAlpha: 0.214279  Progress: 17.76%  Words/thread/sec: 47.30k  \\rAlpha: 0.213817  Progress: 17.94%  Words/thread/sec: 47.22k  \\rAlpha: 0.213355  Progress: 18.12%  Words/thread/sec: 47.27k  \\rAlpha: 0.212894  Progress: 18.47%  Words/thread/sec: 48.18k  \\rAlpha: 0.212894  Progress: 18.47%  Words/thread/sec: 48.17k  \\rAlpha: 0.211970  Progress: 18.65%  Words/thread/sec: 48.23k  \\rAlpha: 0.211508  Progress: 18.83%  Words/thread/sec: 47.72k  \\rAlpha: 0.211046  Progress: 19.01%  Words/thread/sec: 48.04k  \\rAlpha: 0.210584  Progress: 19.18%  Words/thread/sec: 48.06k  \\rAlpha: 0.210123  Progress: 19.36%  Words/thread/sec: 48.10k  \\rAlpha: 0.209661  Progress: 19.54%  Words/thread/sec: 48.14k  \\rAlpha: 0.209199  Progress: 19.72%  Words/thread/sec: 47.41k  \\rAlpha: 0.208737  Progress: 19.89%  Words/thread/sec: 47.58k  \\rAlpha: 0.208275  Progress: 20.07%  Words/thread/sec: 47.50k  \\rAlpha: 0.207814  Progress: 20.25%  Words/thread/sec: 47.29k  \\rAlpha: 0.207352  Progress: 20.43%  Words/thread/sec: 47.70k  \\rAlpha: 0.206890  Progress: 20.60%  Words/thread/sec: 47.62k  \\rAlpha: 0.206428  Progress: 20.78%  Words/thread/sec: 47.06k  \\rAlpha: 0.205966  Progress: 20.96%  Words/thread/sec: 47.33k  \\rAlpha: 0.205504  Progress: 21.14%  Words/thread/sec: 47.72k  \\rAlpha: 0.205043  Progress: 21.32%  Words/thread/sec: 47.89k  \\rAlpha: 0.204581  Progress: 21.49%  Words/thread/sec: 48.06k  \\rAlpha: 0.204119  Progress: 21.67%  Words/thread/sec: 48.45k  \\rAlpha: 0.203657  Progress: 21.85%  Words/thread/sec: 48.83k  \\rAlpha: 0.203195  Progress: 22.03%  Words/thread/sec: 48.87k  \\rAlpha: 0.202733  Progress: 22.20%  Words/thread/sec: 49.03k  \\rAlpha: 0.202272  Progress: 22.38%  Words/thread/sec: 49.05k  \\rAlpha: 0.201810  Progress: 22.56%  Words/thread/sec: 49.08k  \\rAlpha: 0.201348  Progress: 22.74%  Words/thread/sec: 49.34k  \\rAlpha: 0.200886  Progress: 22.91%  Words/thread/sec: 49.12k  \\rAlpha: 0.200424  Progress: 23.09%  Words/thread/sec: 49.39k  \\rAlpha: 0.199962  Progress: 23.27%  Words/thread/sec: 49.53k  \\rAlpha: 0.199962  Progress: 23.45%  Words/thread/sec: 49.79k  \\rAlpha: 0.199962  Progress: 23.62%  Words/thread/sec: 49.94k  \\rAlpha: 0.199962  Progress: 23.80%  Words/thread/sec: 50.30k  \\rAlpha: 0.198115  Progress: 23.98%  Words/thread/sec: 50.33k  \\rAlpha: 0.197653  Progress: 24.16%  Words/thread/sec: 49.75k  \\rAlpha: 0.197191  Progress: 24.33%  Words/thread/sec: 50.00k  \\rAlpha: 0.196730  Progress: 24.51%  Words/thread/sec: 50.14k  \\rAlpha: 0.196268  Progress: 24.69%  Words/thread/sec: 50.28k  \\rAlpha: 0.195806  Progress: 24.87%  Words/thread/sec: 50.41k  \\rAlpha: 0.195344  Progress: 25.05%  Words/thread/sec: 50.31k  \\rAlpha: 0.194882  Progress: 25.22%  Words/thread/sec: 50.43k  \\rAlpha: 0.194421  Progress: 25.40%  Words/thread/sec: 50.68k  \\rAlpha: 0.193959  Progress: 25.58%  Words/thread/sec: 49.92k  \\rAlpha: 0.193497  Progress: 25.76%  Words/thread/sec: 50.15k  \\rAlpha: 0.193035  Progress: 25.93%  Words/thread/sec: 50.17k  \\rAlpha: 0.192573  Progress: 26.11%  Words/thread/sec: 50.51k  \\rAlpha: 0.192573  Progress: 26.29%  Words/thread/sec: 50.52k  \\rAlpha: 0.191188  Progress: 26.64%  Words/thread/sec: 50.99k  \\rAlpha: 0.192573  Progress: 26.47%  Words/thread/sec: 50.75k  \\rAlpha: 0.190726  Progress: 26.82%  Words/thread/sec: 50.89k  \\rAlpha: 0.190264  Progress: 27.00%  Words/thread/sec: 50.37k  \\rAlpha: 0.189802  Progress: 27.18%  Words/thread/sec: 50.59k  \\rAlpha: 0.189340  Progress: 27.35%  Words/thread/sec: 50.82k  \\rAlpha: 0.188879  Progress: 27.53%  Words/thread/sec: 51.15k  \\rAlpha: 0.188417  Progress: 27.71%  Words/thread/sec: 50.28k  \\rAlpha: 0.187955  Progress: 27.89%  Words/thread/sec: 50.50k  \\rAlpha: 0.187493  Progress: 28.06%  Words/thread/sec: 50.82k  \\rAlpha: 0.185646  Progress: 28.60%  Words/thread/sec: 51.45k  \\rAlpha: 0.187493  Progress: 28.24%  Words/thread/sec: 51.05k  \\rAlpha: 0.187493  Progress: 28.42%  Words/thread/sec: 51.16k  \\rAlpha: 0.185646  Progress: 28.78%  Words/thread/sec: 50.97k  \\rAlpha: 0.185184  Progress: 28.95%  Words/thread/sec: 51.08k  \\rAlpha: 0.184722  Progress: 29.13%  Words/thread/sec: 50.80k  \\rAlpha: 0.184260  Progress: 29.31%  Words/thread/sec: 50.42k  \\rAlpha: 0.183799  Progress: 29.49%  Words/thread/sec: 50.52k  \\rAlpha: 0.183337  Progress: 29.66%  Words/thread/sec: 50.73k  \\rAlpha: 0.182875  Progress: 29.84%  Words/thread/sec: 51.03k  \\rAlpha: 0.182413  Progress: 30.02%  Words/thread/sec: 51.32k  \\rAlpha: 0.181951  Progress: 30.20%  Words/thread/sec: 51.25k  \\rAlpha: 0.181489  Progress: 30.37%  Words/thread/sec: 51.54k  \\rAlpha: 0.181028  Progress: 30.55%  Words/thread/sec: 51.27k  \\rAlpha: 0.180566  Progress: 30.73%  Words/thread/sec: 51.28k  \\rAlpha: 0.180104  Progress: 30.91%  Words/thread/sec: 51.57k  \\rAlpha: 0.179642  Progress: 31.08%  Words/thread/sec: 51.39k  \\rAlpha: 0.179180  Progress: 31.26%  Words/thread/sec: 51.11k  \\rAlpha: 0.178718  Progress: 31.44%  Words/thread/sec: 51.30k  \\rAlpha: 0.178257  Progress: 31.62%  Words/thread/sec: 51.03k  \\rAlpha: 0.177795  Progress: 31.80%  Words/thread/sec: 51.04k  \\rAlpha: 0.177333  Progress: 31.97%  Words/thread/sec: 50.97k  \\rAlpha: 0.176871  Progress: 32.15%  Words/thread/sec: 51.06k  \\rAlpha: 0.176409  Progress: 32.33%  Words/thread/sec: 51.16k  \\rAlpha: 0.175947  Progress: 32.51%  Words/thread/sec: 51.17k  \\rAlpha: 0.175486  Progress: 32.68%  Words/thread/sec: 51.36k  \\rAlpha: 0.175024  Progress: 32.86%  Words/thread/sec: 51.63k  \\rAlpha: 0.174562  Progress: 33.04%  Words/thread/sec: 51.57k  \\rAlpha: 0.174100  Progress: 33.22%  Words/thread/sec: 51.30k  \\rAlpha: 0.173638  Progress: 33.39%  Words/thread/sec: 51.49k  \\rAlpha: 0.173176  Progress: 33.57%  Words/thread/sec: 51.76k  \\rAlpha: 0.172715  Progress: 33.75%  Words/thread/sec: 52.02k  \\rAlpha: 0.172253  Progress: 33.93%  Words/thread/sec: 52.21k  \\rAlpha: 0.171791  Progress: 34.10%  Words/thread/sec: 52.31k  \\rAlpha: 0.171329  Progress: 34.28%  Words/thread/sec: 52.22k  \\rAlpha: 0.170867  Progress: 34.46%  Words/thread/sec: 52.13k  \\rAlpha: 0.170406  Progress: 34.64%  Words/thread/sec: 52.14k  \\rAlpha: 0.169944  Progress: 34.81%  Words/thread/sec: 52.14k  \\rAlpha: 0.169482  Progress: 34.99%  Words/thread/sec: 51.88k  \\rAlpha: 0.169020  Progress: 35.17%  Words/thread/sec: 52.05k  \\rAlpha: 0.168558  Progress: 35.35%  Words/thread/sec: 52.23k  \\rAlpha: 0.168096  Progress: 35.53%  Words/thread/sec: 52.49k  \\rAlpha: 0.167635  Progress: 35.70%  Words/thread/sec: 52.24k  \\rAlpha: 0.167173  Progress: 35.88%  Words/thread/sec: 52.41k  \\rAlpha: 0.166711  Progress: 36.06%  Words/thread/sec: 52.67k  \\rAlpha: 0.166249  Progress: 36.24%  Words/thread/sec: 52.76k  \\rAlpha: 0.165787  Progress: 36.41%  Words/thread/sec: 52.84k  \\rAlpha: 0.165325  Progress: 36.59%  Words/thread/sec: 53.01k  \\rAlpha: 0.164864  Progress: 36.77%  Words/thread/sec: 53.18k  \\rAlpha: 0.164402  Progress: 36.95%  Words/thread/sec: 53.27k  \\rAlpha: 0.163940  Progress: 37.12%  Words/thread/sec: 53.44k  \\rAlpha: 0.163478  Progress: 37.30%  Words/thread/sec: 53.60k  \\rAlpha: 0.163016  Progress: 37.48%  Words/thread/sec: 53.77k  \\rAlpha: 0.162554  Progress: 37.66%  Words/thread/sec: 53.51k  \\rAlpha: 0.162093  Progress: 37.83%  Words/thread/sec: 53.68k  \\rAlpha: 0.161631  Progress: 38.01%  Words/thread/sec: 53.84k  \\rAlpha: 0.161169  Progress: 38.19%  Words/thread/sec: 53.41k  \\rAlpha: 0.160707  Progress: 38.37%  Words/thread/sec: 53.57k  \\rAlpha: 0.160245  Progress: 38.54%  Words/thread/sec: 53.57k  \\rAlpha: 0.159783  Progress: 38.72%  Words/thread/sec: 53.73k  \\rAlpha: 0.159322  Progress: 38.90%  Words/thread/sec: 53.40k  \\rAlpha: 0.158860  Progress: 39.08%  Words/thread/sec: 53.63k  \\rAlpha: 0.158398  Progress: 39.26%  Words/thread/sec: 53.06k  \\rAlpha: 0.157936  Progress: 39.43%  Words/thread/sec: 53.30k  \\rAlpha: 0.157474  Progress: 39.61%  Words/thread/sec: 53.29k  \\rAlpha: 0.157013  Progress: 39.79%  Words/thread/sec: 53.30k  \\rAlpha: 0.156551  Progress: 39.97%  Words/thread/sec: 53.45k  \\rAlpha: 0.156089  Progress: 40.14%  Words/thread/sec: 53.68k  \\rAlpha: 0.155627  Progress: 40.32%  Words/thread/sec: 53.68k  \\rAlpha: 0.155165  Progress: 40.50%  Words/thread/sec: 53.91k  \\rAlpha: 0.154703  Progress: 40.68%  Words/thread/sec: 53.92k  \\rAlpha: 0.154242  Progress: 40.85%  Words/thread/sec: 53.83k  \\rAlpha: 0.153780  Progress: 41.03%  Words/thread/sec: 53.66k  \\rAlpha: 0.153318  Progress: 41.21%  Words/thread/sec: 53.73k  \\rAlpha: 0.152856  Progress: 41.39%  Words/thread/sec: 53.73k  \\rAlpha: 0.152394  Progress: 41.56%  Words/thread/sec: 52.80k  \\rAlpha: 0.151932  Progress: 41.74%  Words/thread/sec: 52.95k  \\rAlpha: 0.151471  Progress: 41.92%  Words/thread/sec: 53.10k  \\rAlpha: 0.151009  Progress: 42.10%  Words/thread/sec: 53.17k  \\rAlpha: 0.150547  Progress: 42.27%  Words/thread/sec: 53.32k  \\rAlpha: 0.150085  Progress: 42.45%  Words/thread/sec: 53.47k  \\rAlpha: 0.149623  Progress: 42.63%  Words/thread/sec: 53.61k  \\rAlpha: 0.149161  Progress: 42.81%  Words/thread/sec: 53.54k  \\rAlpha: 0.148700  Progress: 42.99%  Words/thread/sec: 53.61k  \\rAlpha: 0.148238  Progress: 43.16%  Words/thread/sec: 53.83k  \\rAlpha: 0.147776  Progress: 43.34%  Words/thread/sec: 53.82k  \\rAlpha: 0.147314  Progress: 43.52%  Words/thread/sec: 53.89k  \\rAlpha: 0.146852  Progress: 43.70%  Words/thread/sec: 53.96k  \\rAlpha: 0.146852  Progress: 43.87%  Words/thread/sec: 54.18k  \\rAlpha: 0.146852  Progress: 44.23%  Words/thread/sec: 54.46k  \\rAlpha: 0.146852  Progress: 44.58%  Words/thread/sec: 54.83k  \\rAlpha: 0.143620  Progress: 44.94%  Words/thread/sec: 55.04k  \\rAlpha: 0.143158  Progress: 45.12%  Words/thread/sec: 55.18k  \\rAlpha: 0.146852  Progress: 44.76%  Words/thread/sec: 55.05k  \\rAlpha: 0.146852  Progress: 44.05%  Words/thread/sec: 54.25k  \\rAlpha: 0.146852  Progress: 44.41%  Words/thread/sec: 54.62k  \\rAlpha: 0.142696  Progress: 45.29%  Words/thread/sec: 54.95k  \\rAlpha: 0.142234  Progress: 45.47%  Words/thread/sec: 55.08k  \\rAlpha: 0.141772  Progress: 45.65%  Words/thread/sec: 55.15k  \\rAlpha: 0.141310  Progress: 45.83%  Words/thread/sec: 55.14k  \\rAlpha: 0.140849  Progress: 46.01%  Words/thread/sec: 55.20k  \\rAlpha: 0.140387  Progress: 46.18%  Words/thread/sec: 55.26k  \\rAlpha: 0.139925  Progress: 46.36%  Words/thread/sec: 55.32k  \\rAlpha: 0.139463  Progress: 46.54%  Words/thread/sec: 54.95k  \\rAlpha: 0.139001  Progress: 46.72%  Words/thread/sec: 55.15k  \\rAlpha: 0.138539  Progress: 46.89%  Words/thread/sec: 55.07k  \\rAlpha: 0.138078  Progress: 47.07%  Words/thread/sec: 55.14k  \\rAlpha: 0.137616  Progress: 47.25%  Words/thread/sec: 55.35k  \\rAlpha: 0.137154  Progress: 47.43%  Words/thread/sec: 55.48k  \\rAlpha: 0.136692  Progress: 47.60%  Words/thread/sec: 55.25k  \\rAlpha: 0.136230  Progress: 47.78%  Words/thread/sec: 54.67k  \\rAlpha: 0.135768  Progress: 47.96%  Words/thread/sec: 54.66k  \\rAlpha: 0.135307  Progress: 48.14%  Words/thread/sec: 54.86k  \\rAlpha: 0.134383  Progress: 48.49%  Words/thread/sec: 54.98k  \\rAlpha: 0.133921  Progress: 48.67%  Words/thread/sec: 54.98k  \\rAlpha: 0.133459  Progress: 48.85%  Words/thread/sec: 55.17k  \\rAlpha: 0.135307  Progress: 48.31%  Words/thread/sec: 54.85k  \\rAlpha: 0.132998  Progress: 49.02%  Words/thread/sec: 54.96k  \\rAlpha: 0.132536  Progress: 49.20%  Words/thread/sec: 54.74k  \\rAlpha: 0.132074  Progress: 49.38%  Words/thread/sec: 54.60k  \\rAlpha: 0.131612  Progress: 49.56%  Words/thread/sec: 54.79k  \\rAlpha: 0.131150  Progress: 49.74%  Words/thread/sec: 54.92k  \\rAlpha: 0.130688  Progress: 49.91%  Words/thread/sec: 55.05k  \\rAlpha: 0.130227  Progress: 50.09%  Words/thread/sec: 55.24k  \\rAlpha: 0.129765  Progress: 50.27%  Words/thread/sec: 55.37k  \\rAlpha: 0.129303  Progress: 50.45%  Words/thread/sec: 54.89k  \\rAlpha: 0.128841  Progress: 50.62%  Words/thread/sec: 54.68k  \\rAlpha: 0.128379  Progress: 50.80%  Words/thread/sec: 54.86k  \\rAlpha: 0.127917  Progress: 50.98%  Words/thread/sec: 55.05k  \\rAlpha: 0.127456  Progress: 51.16%  Words/thread/sec: 55.12k  \\rAlpha: 0.126994  Progress: 51.33%  Words/thread/sec: 54.70k  \\rAlpha: 0.126532  Progress: 51.51%  Words/thread/sec: 54.83k  \\rAlpha: 0.126070  Progress: 51.69%  Words/thread/sec: 54.95k  \\rAlpha: 0.125608  Progress: 51.87%  Words/thread/sec: 54.94k  \\rAlpha: 0.125146  Progress: 52.04%  Words/thread/sec: 55.00k  \\rAlpha: 0.125146  Progress: 52.22%  Words/thread/sec: 54.99k  \\rAlpha: 0.123299  Progress: 52.75%  Words/thread/sec: 55.36k  \\rAlpha: 0.125146  Progress: 52.40%  Words/thread/sec: 55.17k  \\rAlpha: 0.125146  Progress: 52.58%  Words/thread/sec: 55.30k  \\rAlpha: 0.122837  Progress: 52.93%  Words/thread/sec: 55.15k  \\rAlpha: 0.122375  Progress: 53.11%  Words/thread/sec: 55.33k  \\rAlpha: 0.121914  Progress: 53.29%  Words/thread/sec: 55.39k  \\rAlpha: 0.121452  Progress: 53.47%  Words/thread/sec: 55.44k  \\rAlpha: 0.120990  Progress: 53.64%  Words/thread/sec: 55.57k  \\rAlpha: 0.120528  Progress: 53.82%  Words/thread/sec: 55.74k  \\rAlpha: 0.120066  Progress: 54.00%  Words/thread/sec: 55.87k  \\rAlpha: 0.119605  Progress: 54.18%  Words/thread/sec: 55.99k  \\rAlpha: 0.119143  Progress: 54.35%  Words/thread/sec: 56.10k  \\rAlpha: 0.118681  Progress: 54.53%  Words/thread/sec: 56.16k  \\rAlpha: 0.118219  Progress: 54.71%  Words/thread/sec: 55.95k  \\rAlpha: 0.117757  Progress: 54.89%  Words/thread/sec: 56.13k  \\rAlpha: 0.117295  Progress: 55.06%  Words/thread/sec: 56.18k  \\rAlpha: 0.116834  Progress: 55.24%  Words/thread/sec: 56.30k  \\rAlpha: 0.116372  Progress: 55.42%  Words/thread/sec: 56.22k  \\rAlpha: 0.115910  Progress: 55.60%  Words/thread/sec: 56.21k  \\rAlpha: 0.115448  Progress: 55.77%  Words/thread/sec: 56.26k  \\rAlpha: 0.114986  Progress: 55.95%  Words/thread/sec: 56.18k  \\rAlpha: 0.114524  Progress: 56.13%  Words/thread/sec: 56.30k  \\rAlpha: 0.114063  Progress: 56.31%  Words/thread/sec: 56.28k  \\rAlpha: 0.113601  Progress: 56.49%  Words/thread/sec: 56.34k  \\rAlpha: 0.113139  Progress: 56.66%  Words/thread/sec: 56.45k  \\rAlpha: 0.112677  Progress: 56.84%  Words/thread/sec: 56.31k  \\rAlpha: 0.112215  Progress: 57.02%  Words/thread/sec: 56.05k  \\rAlpha: 0.111753  Progress: 57.20%  Words/thread/sec: 55.72k  \\rAlpha: 0.111292  Progress: 57.37%  Words/thread/sec: 55.72k  \\rAlpha: 0.110830  Progress: 57.55%  Words/thread/sec: 55.71k  \\rAlpha: 0.110368  Progress: 57.73%  Words/thread/sec: 55.51k  \\rAlpha: 0.109906  Progress: 57.91%  Words/thread/sec: 55.62k  \\rAlpha: 0.109444  Progress: 58.08%  Words/thread/sec: 55.73k  \\rAlpha: 0.108982  Progress: 58.26%  Words/thread/sec: 55.84k  \\rAlpha: 0.108521  Progress: 58.44%  Words/thread/sec: 55.89k  \\rAlpha: 0.108059  Progress: 58.62%  Words/thread/sec: 55.70k  \\rAlpha: 0.107597  Progress: 58.79%  Words/thread/sec: 55.57k  \\rAlpha: 0.107135  Progress: 58.97%  Words/thread/sec: 55.74k  \\rAlpha: 0.106673  Progress: 59.15%  Words/thread/sec: 55.73k  \\rAlpha: 0.106212  Progress: 59.33%  Words/thread/sec: 55.72k  \\rAlpha: 0.105750  Progress: 59.50%  Words/thread/sec: 55.83k  \\rAlpha: 0.105288  Progress: 59.68%  Words/thread/sec: 55.94k  \\rAlpha: 0.104826  Progress: 59.86%  Words/thread/sec: 55.75k  \\rAlpha: 0.104364  Progress: 60.04%  Words/thread/sec: 55.73k  \\rAlpha: 0.103902  Progress: 60.22%  Words/thread/sec: 55.85k  \\rAlpha: 0.103441  Progress: 60.39%  Words/thread/sec: 55.95k  \\rAlpha: 0.102979  Progress: 60.57%  Words/thread/sec: 55.88k  \\rAlpha: 0.102517  Progress: 60.75%  Words/thread/sec: 55.81k  \\rAlpha: 0.102517  Progress: 60.93%  Words/thread/sec: 55.86k  \\rAlpha: 0.102517  Progress: 61.10%  Words/thread/sec: 56.02k  \\rAlpha: 0.101131  Progress: 61.28%  Words/thread/sec: 55.89k  \\rAlpha: 0.100670  Progress: 61.46%  Words/thread/sec: 56.00k  \\rAlpha: 0.100208  Progress: 61.64%  Words/thread/sec: 56.05k  \\rAlpha: 0.099746  Progress: 61.99%  Words/thread/sec: 56.26k  \\rAlpha: 0.098822  Progress: 62.17%  Words/thread/sec: 56.13k  \\rAlpha: 0.098360  Progress: 62.17%  Words/thread/sec: 56.45k  \\rAlpha: 0.098360  Progress: 62.35%  Words/thread/sec: 55.95k  \\rAlpha: 0.097899  Progress: 62.52%  Words/thread/sec: 56.05k  \\rAlpha: 0.097437  Progress: 62.70%  Words/thread/sec: 56.16k  \\rAlpha: 0.096975  Progress: 62.88%  Words/thread/sec: 56.15k  \\rAlpha: 0.096513  Progress: 63.06%  Words/thread/sec: 56.19k  \\rAlpha: 0.096051  Progress: 63.23%  Words/thread/sec: 56.29k  \\rAlpha: 0.095590  Progress: 63.41%  Words/thread/sec: 56.39k  \\rAlpha: 0.095128  Progress: 63.59%  Words/thread/sec: 56.33k  \\rAlpha: 0.094666  Progress: 63.77%  Words/thread/sec: 56.49k  \\rAlpha: 0.094204  Progress: 63.95%  Words/thread/sec: 56.42k  \\rAlpha: 0.093742  Progress: 64.12%  Words/thread/sec: 56.52k  \\rAlpha: 0.093280  Progress: 64.30%  Words/thread/sec: 56.67k  \\rAlpha: 0.092819  Progress: 64.48%  Words/thread/sec: 56.72k  \\rAlpha: 0.092357  Progress: 64.66%  Words/thread/sec: 56.81k  \\rAlpha: 0.091895  Progress: 64.83%  Words/thread/sec: 56.86k  \\rAlpha: 0.091433  Progress: 65.01%  Words/thread/sec: 56.79k  \\rAlpha: 0.090971  Progress: 65.19%  Words/thread/sec: 56.66k  \\rAlpha: 0.090971  Progress: 65.37%  Words/thread/sec: 56.71k  \\rAlpha: 0.090971  Progress: 65.54%  Words/thread/sec: 56.70k  \\rAlpha: 0.089586  Progress: 65.72%  Words/thread/sec: 56.36k  \\rAlpha: 0.089124  Progress: 65.90%  Words/thread/sec: 56.51k  \\rAlpha: 0.088662  Progress: 66.08%  Words/thread/sec: 56.50k  \\rAlpha: 0.088200  Progress: 66.25%  Words/thread/sec: 56.32k  \\rAlpha: 0.087738  Progress: 66.43%  Words/thread/sec: 56.31k  \\rAlpha: 0.086353  Progress: 66.96%  Words/thread/sec: 56.49k  \\rAlpha: 0.087738  Progress: 66.61%  Words/thread/sec: 56.36k  \\rAlpha: 0.087738  Progress: 66.79%  Words/thread/sec: 56.40k  \\rAlpha: 0.085891  Progress: 67.14%  Words/thread/sec: 56.37k  \\rAlpha: 0.085429  Progress: 67.32%  Words/thread/sec: 56.05k  \\rAlpha: 0.084967  Progress: 67.50%  Words/thread/sec: 56.09k  \\rAlpha: 0.084506  Progress: 67.68%  Words/thread/sec: 56.19k  \\rAlpha: 0.084044  Progress: 67.85%  Words/thread/sec: 56.24k  \\rAlpha: 0.083582  Progress: 68.03%  Words/thread/sec: 56.18k  \\rAlpha: 0.083120  Progress: 68.21%  Words/thread/sec: 55.96k  \\rAlpha: 0.082658  Progress: 68.39%  Words/thread/sec: 56.06k  \\rAlpha: 0.082197  Progress: 68.56%  Words/thread/sec: 56.15k  \\rAlpha: 0.081735  Progress: 68.74%  Words/thread/sec: 56.24k  \\rAlpha: 0.081273  Progress: 68.92%  Words/thread/sec: 56.13k  \\rAlpha: 0.080811  Progress: 69.10%  Words/thread/sec: 56.17k  \\rAlpha: 0.080349  Progress: 69.27%  Words/thread/sec: 56.31k  \\rAlpha: 0.079887  Progress: 69.45%  Words/thread/sec: 56.45k  \\rAlpha: 0.079426  Progress: 69.63%  Words/thread/sec: 56.60k  \\rAlpha: 0.078964  Progress: 69.81%  Words/thread/sec: 56.74k  \\rAlpha: 0.078964  Progress: 69.98%  Words/thread/sec: 56.78k  \\rAlpha: 0.077578  Progress: 70.34%  Words/thread/sec: 56.81k  \\rAlpha: 0.078964  Progress: 70.16%  Words/thread/sec: 56.83k  \\rAlpha: 0.077116  Progress: 70.52%  Words/thread/sec: 56.70k  \\rAlpha: 0.076655  Progress: 70.70%  Words/thread/sec: 56.79k  \\rAlpha: 0.076193  Progress: 70.87%  Words/thread/sec: 56.62k  \\rAlpha: 0.075731  Progress: 71.05%  Words/thread/sec: 56.76k  \\rAlpha: 0.075269  Progress: 71.23%  Words/thread/sec: 56.90k  \\rAlpha: 0.074807  Progress: 71.41%  Words/thread/sec: 57.04k  \\rAlpha: 0.074345  Progress: 71.58%  Words/thread/sec: 57.14k  \\rAlpha: 0.073884  Progress: 71.76%  Words/thread/sec: 57.13k  \\rAlpha: 0.073422  Progress: 71.94%  Words/thread/sec: 57.02k  \\rAlpha: 0.072960  Progress: 72.12%  Words/thread/sec: 56.70k  \\rAlpha: 0.072498  Progress: 72.29%  Words/thread/sec: 56.78k  \\rAlpha: 0.072036  Progress: 72.47%  Words/thread/sec: 56.53k  \\rAlpha: 0.071574  Progress: 72.65%  Words/thread/sec: 56.22k  \\rAlpha: 0.071113  Progress: 72.83%  Words/thread/sec: 56.16k  \\rAlpha: 0.070651  Progress: 73.00%  Words/thread/sec: 56.25k  \\rAlpha: 0.070189  Progress: 73.18%  Words/thread/sec: 56.34k  \\rAlpha: 0.069727  Progress: 73.36%  Words/thread/sec: 56.43k  \\rAlpha: 0.069265  Progress: 73.54%  Words/thread/sec: 56.42k  \\rAlpha: 0.068804  Progress: 73.71%  Words/thread/sec: 56.26k  \\rAlpha: 0.068342  Progress: 73.89%  Words/thread/sec: 56.15k  \\rAlpha: 0.067880  Progress: 74.07%  Words/thread/sec: 56.09k  \\rAlpha: 0.067418  Progress: 74.25%  Words/thread/sec: 56.18k  \\rAlpha: 0.066956  Progress: 74.43%  Words/thread/sec: 56.22k  \\rAlpha: 0.066494  Progress: 74.60%  Words/thread/sec: 56.21k  \\rAlpha: 0.066033  Progress: 74.78%  Words/thread/sec: 56.11k  \\rAlpha: 0.065571  Progress: 74.96%  Words/thread/sec: 55.96k  \\rAlpha: 0.065109  Progress: 75.14%  Words/thread/sec: 56.09k  \\rAlpha: 0.064647  Progress: 75.31%  Words/thread/sec: 56.22k  \\rAlpha: 0.064185  Progress: 75.49%  Words/thread/sec: 56.31k  \\rAlpha: 0.063723  Progress: 75.67%  Words/thread/sec: 56.34k  \\rAlpha: 0.063262  Progress: 75.85%  Words/thread/sec: 56.47k  \\rAlpha: 0.062800  Progress: 76.02%  Words/thread/sec: 56.56k  \\rAlpha: 0.062338  Progress: 76.20%  Words/thread/sec: 56.60k  \\rAlpha: 0.061876  Progress: 76.38%  Words/thread/sec: 56.68k  \\rAlpha: 0.061414  Progress: 76.56%  Words/thread/sec: 56.81k  \\rAlpha: 0.060952  Progress: 76.73%  Words/thread/sec: 56.85k  \\rAlpha: 0.060491  Progress: 76.91%  Words/thread/sec: 56.98k  \\rAlpha: 0.060029  Progress: 77.09%  Words/thread/sec: 56.97k  \\rAlpha: 0.059567  Progress: 77.27%  Words/thread/sec: 57.01k  \\rAlpha: 0.059105  Progress: 77.44%  Words/thread/sec: 57.04k  \\rAlpha: 0.058643  Progress: 77.62%  Words/thread/sec: 56.99k  \\rAlpha: 0.058182  Progress: 77.80%  Words/thread/sec: 57.07k  \\rAlpha: 0.057720  Progress: 77.98%  Words/thread/sec: 57.20k  \\rAlpha: 0.057258  Progress: 78.16%  Words/thread/sec: 57.28k  \\rAlpha: 0.056796  Progress: 78.33%  Words/thread/sec: 57.27k  \\rAlpha: 0.056334  Progress: 78.51%  Words/thread/sec: 57.30k  \\rAlpha: 0.055872  Progress: 78.69%  Words/thread/sec: 57.29k  \\rAlpha: 0.055411  Progress: 78.87%  Words/thread/sec: 56.91k  \\rAlpha: 0.054949  Progress: 79.04%  Words/thread/sec: 56.80k  \\rAlpha: 0.054487  Progress: 79.22%  Words/thread/sec: 56.88k  \\rAlpha: 0.054025  Progress: 79.40%  Words/thread/sec: 56.92k  \\rAlpha: 0.053563  Progress: 79.58%  Words/thread/sec: 56.86k  \\rAlpha: 0.053101  Progress: 79.75%  Words/thread/sec: 56.67k  \\rAlpha: 0.052640  Progress: 79.93%  Words/thread/sec: 56.75k  \\rAlpha: 0.052178  Progress: 80.11%  Words/thread/sec: 56.56k  thread 49 392164267\\n\\rAlpha: 0.051716  Progress: 80.29%  Words/thread/sec: 56.41k  \\rAlpha: 0.051254  Progress: 80.46%  Words/thread/sec: 56.50k  \\rAlpha: 0.050792  Progress: 80.64%  Words/thread/sec: 56.57k  \\rAlpha: 0.050330  Progress: 80.82%  Words/thread/sec: 56.52k  \\rAlpha: 0.049869  Progress: 81.00%  Words/thread/sec: 56.64k  \\rAlpha: 0.049407  Progress: 81.18%  Words/thread/sec: 56.67k  \\rAlpha: 0.048945  Progress: 81.35%  Words/thread/sec: 56.63k  \\rAlpha: 0.048483  Progress: 81.53%  Words/thread/sec: 56.43k  \\rAlpha: 0.048021  Progress: 81.71%  Words/thread/sec: 56.34k  \\rAlpha: 0.047559  Progress: 81.89%  Words/thread/sec: 56.28k  \\rAlpha: 0.047098  Progress: 82.06%  Words/thread/sec: 56.40k  \\rAlpha: 0.046636  Progress: 82.24%  Words/thread/sec: 56.49k  \\rAlpha: 0.046174  Progress: 82.42%  Words/thread/sec: 56.57k  \\rAlpha: 0.045712  Progress: 82.60%  Words/thread/sec: 56.60k  \\rAlpha: 0.045250  Progress: 82.77%  Words/thread/sec: 56.59k  \\rAlpha: 0.044789  Progress: 82.95%  Words/thread/sec: 56.67k  \\rAlpha: 0.044327  Progress: 83.13%  Words/thread/sec: 56.70k  \\rAlpha: 0.043865  Progress: 83.31%  Words/thread/sec: 56.78k  \\rAlpha: 0.043403  Progress: 83.48%  Words/thread/sec: 56.90k  \\rAlpha: 0.042941  Progress: 83.66%  Words/thread/sec: 57.02k  \\rAlpha: 0.042479  Progress: 83.84%  Words/thread/sec: 57.05k  \\rAlpha: 0.042018  Progress: 84.02%  Words/thread/sec: 57.00k  \\rAlpha: 0.041556  Progress: 84.19%  Words/thread/sec: 57.08k  \\rAlpha: 0.041094  Progress: 84.37%  Words/thread/sec: 56.93k  \\rAlpha: 0.040632  Progress: 84.55%  Words/thread/sec: 56.97k  \\rAlpha: 0.040170  Progress: 84.73%  Words/thread/sec: 56.70k  \\rAlpha: 0.039708  Progress: 84.91%  Words/thread/sec: 56.73k  \\rAlpha: 0.039247  Progress: 85.08%  Words/thread/sec: 56.68k  \\rAlpha: 0.038785  Progress: 85.26%  Words/thread/sec: 56.62k  \\rAlpha: 0.038323  Progress: 85.44%  Words/thread/sec: 56.66k  \\rAlpha: 0.037861  Progress: 85.62%  Words/thread/sec: 56.74k  \\rAlpha: 0.037399  Progress: 85.79%  Words/thread/sec: 56.77k  \\rAlpha: 0.036937  Progress: 85.97%  Words/thread/sec: 56.59k  \\rAlpha: 0.036476  Progress: 86.15%  Words/thread/sec: 56.71k  \\rAlpha: 0.036014  Progress: 86.33%  Words/thread/sec: 56.70k  \\rAlpha: 0.035552  Progress: 86.50%  Words/thread/sec: 56.81k  \\rAlpha: 0.035090  Progress: 86.68%  Words/thread/sec: 56.89k  \\rAlpha: 0.034628  Progress: 86.86%  Words/thread/sec: 57.00k  \\rAlpha: 0.034166  Progress: 87.04%  Words/thread/sec: 57.00k  \\rAlpha: 0.033705  Progress: 87.21%  Words/thread/sec: 56.99k  \\rAlpha: 0.033243  Progress: 87.39%  Words/thread/sec: 57.02k  \\rAlpha: 0.032781  Progress: 87.57%  Words/thread/sec: 56.97k  \\rAlpha: 0.032319  Progress: 87.75%  Words/thread/sec: 57.08k  \\rAlpha: 0.031857  Progress: 87.92%  Words/thread/sec: 56.99k  \\rAlpha: 0.031396  Progress: 88.10%  Words/thread/sec: 57.02k  \\rAlpha: 0.030934  Progress: 88.28%  Words/thread/sec: 57.10k  \\rAlpha: 0.030472  Progress: 88.46%  Words/thread/sec: 56.98k  \\rAlpha: 0.030010  Progress: 88.64%  Words/thread/sec: 56.99k  \\rAlpha: 0.029548  Progress: 88.81%  Words/thread/sec: 57.07k  \\rAlpha: 0.029086  Progress: 88.99%  Words/thread/sec: 57.15k  \\rAlpha: 0.028625  Progress: 89.17%  Words/thread/sec: 57.02k  \\rAlpha: 0.028163  Progress: 89.35%  Words/thread/sec: 57.04k  \\rAlpha: 0.027701  Progress: 89.52%  Words/thread/sec: 56.92k  \\rAlpha: 0.027239  Progress: 89.70%  Words/thread/sec: 57.03k  \\rAlpha: 0.026777  Progress: 89.88%  Words/thread/sec: 57.11k  \\rAlpha: 0.026315  Progress: 90.06%  Words/thread/sec: 57.22k  \\rAlpha: 0.025854  Progress: 90.23%  Words/thread/sec: 57.16k  \\rAlpha: 0.025392  Progress: 90.41%  Words/thread/sec: 57.25k  \\rAlpha: 0.024930  Progress: 90.59%  Words/thread/sec: 57.22k  \\rAlpha: 0.024468  Progress: 90.77%  Words/thread/sec: 57.24k  \\rAlpha: 0.024006  Progress: 90.94%  Words/thread/sec: 57.31k  \\rAlpha: 0.023544  Progress: 91.12%  Words/thread/sec: 57.18k  \\rAlpha: 0.023083  Progress: 91.30%  Words/thread/sec: 57.26k  \\rAlpha: 0.022621  Progress: 91.48%  Words/thread/sec: 57.33k  \\rAlpha: 0.022159  Progress: 91.65%  Words/thread/sec: 57.21k  \\rAlpha: 0.021697  Progress: 91.83%  Words/thread/sec: 57.25k  \\rAlpha: 0.021235  Progress: 92.01%  Words/thread/sec: 57.14k  \\rAlpha: 0.020773  Progress: 92.19%  Words/thread/sec: 57.04k  \\rAlpha: 0.020312  Progress: 92.37%  Words/thread/sec: 57.12k  \\rAlpha: 0.019850  Progress: 92.54%  Words/thread/sec: 57.18k  \\rAlpha: 0.019388  Progress: 92.72%  Words/thread/sec: 57.27k  \\rAlpha: 0.018926  Progress: 92.90%  Words/thread/sec: 57.35k  \\rAlpha: 0.018464  Progress: 93.08%  Words/thread/sec: 57.35k  \\rAlpha: 0.018003  Progress: 93.25%  Words/thread/sec: 57.37k  \\rAlpha: 0.017541  Progress: 93.43%  Words/thread/sec: 57.43k  \\rAlpha: 0.017079  Progress: 93.61%  Words/thread/sec: 57.39k  \\rAlpha: 0.016617  Progress: 93.79%  Words/thread/sec: 57.37k  \\rAlpha: 0.016155  Progress: 93.96%  Words/thread/sec: 57.22k  \\rAlpha: 0.015693  Progress: 94.14%  Words/thread/sec: 57.26k  \\rAlpha: 0.015232  Progress: 94.32%  Words/thread/sec: 57.17k  \\rAlpha: 0.014770  Progress: 94.50%  Words/thread/sec: 57.26k  \\rAlpha: 0.014308  Progress: 94.67%  Words/thread/sec: 57.37k  \\rAlpha: 0.013846  Progress: 94.85%  Words/thread/sec: 57.34k  \\rAlpha: 0.013384  Progress: 95.03%  Words/thread/sec: 57.41k  \\rAlpha: 0.012922  Progress: 95.21%  Words/thread/sec: 57.30k  \\rAlpha: 0.012461  Progress: 95.39%  Words/thread/sec: 57.32k  \\rAlpha: 0.011999  Progress: 95.56%  Words/thread/sec: 57.40k  \\rAlpha: 0.011537  Progress: 95.74%  Words/thread/sec: 57.33k  \\rAlpha: 0.011075  Progress: 95.92%  Words/thread/sec: 57.38k  \\rAlpha: 0.010613  Progress: 96.10%  Words/thread/sec: 57.48k  \\rAlpha: 0.010151  Progress: 96.27%  Words/thread/sec: 57.46k  \\rAlpha: 0.009690  Progress: 96.45%  Words/thread/sec: 57.49k  \\rAlpha: 0.009228  Progress: 96.63%  Words/thread/sec: 57.51k  \\rAlpha: 0.008766  Progress: 96.81%  Words/thread/sec: 57.54k  \\rAlpha: 0.008304  Progress: 96.98%  Words/thread/sec: 57.57k  \\rAlpha: 0.007842  Progress: 97.16%  Words/thread/sec: 57.59k  \\rAlpha: 0.007381  Progress: 97.34%  Words/thread/sec: 57.61k  \\rAlpha: 0.006919  Progress: 97.52%  Words/thread/sec: 57.63k  \\rAlpha: 0.006457  Progress: 97.69%  Words/thread/sec: 57.65k  '\n"
     ]
    }
   ],
   "source": [
    "#Run Word2VecF and store vector file in plain text 'dim200puzzlevec'\n",
    "import subprocess\n",
    "file_data = \"word2vecf/train_data\"\n",
    "file_wv = \"word2vecf/wv\"\n",
    "file_cv = \"word2vecf/cv\"\n",
    "output = \"word2vecf/vectors/dim200puzzlevec\"\n",
    "command = f\"./word2vecf -train {file_data} -wvocab {file_wv} -cvocab {file_cv} -output {output} -threads 50 -alpha 0.26 -size 200\"\n",
    "output = subprocess.run(command,capture_output=True,shell=True).stdout\n",
    "print(output)"
   ]
  },
  {
   "cell_type": "markdown",
   "metadata": {},
   "source": [
    "<h2>Load Generated Embeddings</h2>"
   ]
  },
  {
   "cell_type": "code",
   "execution_count": 149,
   "metadata": {},
   "outputs": [],
   "source": [
    "vectors = pd.read_csv(\"word2vecf/vectors/dim200puzzlevec\", sep=' ', header=None, skiprows=1)\n",
    "#Remove Empty column at end of file\n",
    "vectors = vectors.drop(vectors.shape[1]-1,axis=1)\n",
    "#Create puzzle_vocabulary data frame from first column of vectors and then remove vector id column from vectors\n",
    "vectors.rename(columns={0:'tactics_problem_id'}, inplace=True)\n",
    "puzzle_vocabulary_pd = vectors['tactics_problem_id'].to_frame().astype('int32').set_index(\"tactics_problem_id\")\n",
    "vectors = vectors.drop('tactics_problem_id',axis=1)"
   ]
  },
  {
   "cell_type": "code",
   "execution_count": 137,
   "metadata": {},
   "outputs": [
    {
     "data": {
      "text/plain": [
       "(35362, 200)"
      ]
     },
     "execution_count": 137,
     "metadata": {},
     "output_type": "execute_result"
    }
   ],
   "source": [
    "vectors.shape"
   ]
  },
  {
   "cell_type": "markdown",
   "metadata": {},
   "source": [
    "<h2>Load Puzzle MetaData</h2>"
   ]
  },
  {
   "cell_type": "code",
   "execution_count": 139,
   "metadata": {},
   "outputs": [],
   "source": [
    "#Load Fen Data\n",
    "fen_data = pd.read_csv('/w/225/1/chess/tactics/tactics_problem.csv')"
   ]
  },
  {
   "cell_type": "code",
   "execution_count": 140,
   "metadata": {},
   "outputs": [
    {
     "data": {
      "text/plain": [
       "'\\nimport re\\nold_pgn = fen_data[\\'pgn\\']\\nnew_pgn = np.array([])\\nfor i in range(0,len(old_pgn)):\\n    old_fen = old_pgn[i]\\n    try:\\n        string = re.search(\\'\\\\[FEN \"(.+?)\"\\\\]\\', old_fen).group(1)\\n        string = string.replace(\\' \\',\\'_\\')\\n        #print(string)\\n    except:\\n        string = \\'\\'\\n    new_pgn = np.append(new_pgn,\\'https://lichess.org/analysis/\\' + string)\\nprint(new_pgn)\\n'"
      ]
     },
     "execution_count": 140,
     "metadata": {},
     "output_type": "execute_result"
    }
   ],
   "source": [
    "#Extract PGN and FEN\n",
    "'''\n",
    "import re\n",
    "old_pgn = fen_data['pgn']\n",
    "new_pgn = np.array([])\n",
    "for i in range(0,len(old_pgn)):\n",
    "    old_fen = old_pgn[i]\n",
    "    try:\n",
    "        string = re.search('\\[FEN \\\"(.+?)\\\"\\]', old_fen).group(1)\n",
    "        string = string.replace(' ','_')\n",
    "        #print(string)\n",
    "    except:\n",
    "        string = ''\n",
    "    new_pgn = np.append(new_pgn,'https://lichess.org/analysis/' + string)\n",
    "print(new_pgn)\n",
    "'''"
   ]
  },
  {
   "cell_type": "code",
   "execution_count": 142,
   "metadata": {},
   "outputs": [],
   "source": [
    "#np.save('fen_links.npy',new_pgn)\n",
    "#Add FEN Data to \n",
    "new_pgn = np.load('fen_links.npy')\n",
    "fen_data['pgn'] = new_pgn\n",
    "fen_data.rename(columns={'pgn':'fen'}, inplace=True)"
   ]
  },
  {
   "cell_type": "code",
   "execution_count": 143,
   "metadata": {},
   "outputs": [],
   "source": [
    "#puzzle_vocabulary_pd = puzzle_vocabulary_pd.join(tag_data.set_index('tactics_problem_id'))\n",
    "puzzle_vocabulary_pd = puzzle_vocabulary_pd.join(fen_data.set_index('tactics_problem_id'))"
   ]
  },
  {
   "cell_type": "code",
   "execution_count": 146,
   "metadata": {},
   "outputs": [],
   "source": [
    "#IMPORTANT remove empty values, causes issues with projector\n",
    "puzzle_vocabulary_pd = puzzle_vocabulary_pd.replace(np.nan, 0,regex=True)\n",
    "puzzle_vocabulary_pd.reset_index(level=0, inplace=True)"
   ]
  },
  {
   "cell_type": "code",
   "execution_count": 147,
   "metadata": {},
   "outputs": [
    {
     "name": "stdout",
     "output_type": "stream",
     "text": [
      "index                 0\n",
      "tactics_problem_id    0\n",
      "rating                0\n",
      "rd                    0\n",
      "attempt_count         0\n",
      "average_seconds       0\n",
      "move_count            0\n",
      "tags                  0\n",
      "fen                   0\n",
      "dtype: int64\n"
     ]
    },
    {
     "data": {
      "text/html": [
       "<div>\n",
       "<style scoped>\n",
       "    .dataframe tbody tr th:only-of-type {\n",
       "        vertical-align: middle;\n",
       "    }\n",
       "\n",
       "    .dataframe tbody tr th {\n",
       "        vertical-align: top;\n",
       "    }\n",
       "\n",
       "    .dataframe thead th {\n",
       "        text-align: right;\n",
       "    }\n",
       "</style>\n",
       "<table border=\"1\" class=\"dataframe\">\n",
       "  <thead>\n",
       "    <tr style=\"text-align: right;\">\n",
       "      <th></th>\n",
       "      <th>index</th>\n",
       "      <th>tactics_problem_id</th>\n",
       "      <th>rating</th>\n",
       "      <th>rd</th>\n",
       "      <th>attempt_count</th>\n",
       "      <th>average_seconds</th>\n",
       "      <th>move_count</th>\n",
       "      <th>tags</th>\n",
       "      <th>fen</th>\n",
       "    </tr>\n",
       "  </thead>\n",
       "  <tbody>\n",
       "    <tr>\n",
       "      <th>0</th>\n",
       "      <td>0</td>\n",
       "      <td>731</td>\n",
       "      <td>1569.0</td>\n",
       "      <td>44.96</td>\n",
       "      <td>53336.0</td>\n",
       "      <td>41.0</td>\n",
       "      <td>3.0</td>\n",
       "      <td>Attacking f7/f2,Attacking Castled King,Back Ra...</td>\n",
       "      <td>https://lichess.org/analysis/r1b2rk1/ppp2ppp/1...</td>\n",
       "    </tr>\n",
       "    <tr>\n",
       "      <th>1</th>\n",
       "      <td>1</td>\n",
       "      <td>30293</td>\n",
       "      <td>691.0</td>\n",
       "      <td>43.45</td>\n",
       "      <td>46324.0</td>\n",
       "      <td>34.0</td>\n",
       "      <td>1.0</td>\n",
       "      <td>0</td>\n",
       "      <td>https://lichess.org/analysis/2k5/pp3ppp/8/2p5/...</td>\n",
       "    </tr>\n",
       "    <tr>\n",
       "      <th>2</th>\n",
       "      <td>2</td>\n",
       "      <td>765</td>\n",
       "      <td>588.0</td>\n",
       "      <td>42.31</td>\n",
       "      <td>45728.0</td>\n",
       "      <td>18.0</td>\n",
       "      <td>1.0</td>\n",
       "      <td>Mate in 1</td>\n",
       "      <td>https://lichess.org/analysis/r1bqk2r/pppn1pp1/...</td>\n",
       "    </tr>\n",
       "    <tr>\n",
       "      <th>3</th>\n",
       "      <td>3</td>\n",
       "      <td>29166</td>\n",
       "      <td>629.0</td>\n",
       "      <td>41.37</td>\n",
       "      <td>42273.0</td>\n",
       "      <td>48.0</td>\n",
       "      <td>2.0</td>\n",
       "      <td>Mate in 3+,Queen Sacrifice</td>\n",
       "      <td>https://lichess.org/analysis/4nrk1/3R1ppp/6q1/...</td>\n",
       "    </tr>\n",
       "    <tr>\n",
       "      <th>4</th>\n",
       "      <td>4</td>\n",
       "      <td>29064</td>\n",
       "      <td>986.0</td>\n",
       "      <td>43.76</td>\n",
       "      <td>57201.0</td>\n",
       "      <td>45.0</td>\n",
       "      <td>2.0</td>\n",
       "      <td>Basic Checkmates,Mating Net,Sacrifice</td>\n",
       "      <td>https://lichess.org/analysis/8/4Q3/k1q5/5p2/r2...</td>\n",
       "    </tr>\n",
       "  </tbody>\n",
       "</table>\n",
       "</div>"
      ],
      "text/plain": [
       "   index  tactics_problem_id  rating     rd  attempt_count  average_seconds  \\\n",
       "0      0                 731  1569.0  44.96        53336.0             41.0   \n",
       "1      1               30293   691.0  43.45        46324.0             34.0   \n",
       "2      2                 765   588.0  42.31        45728.0             18.0   \n",
       "3      3               29166   629.0  41.37        42273.0             48.0   \n",
       "4      4               29064   986.0  43.76        57201.0             45.0   \n",
       "\n",
       "   move_count                                               tags  \\\n",
       "0         3.0  Attacking f7/f2,Attacking Castled King,Back Ra...   \n",
       "1         1.0                                                  0   \n",
       "2         1.0                                          Mate in 1   \n",
       "3         2.0                         Mate in 3+,Queen Sacrifice   \n",
       "4         2.0              Basic Checkmates,Mating Net,Sacrifice   \n",
       "\n",
       "                                                 fen  \n",
       "0  https://lichess.org/analysis/r1b2rk1/ppp2ppp/1...  \n",
       "1  https://lichess.org/analysis/2k5/pp3ppp/8/2p5/...  \n",
       "2  https://lichess.org/analysis/r1bqk2r/pppn1pp1/...  \n",
       "3  https://lichess.org/analysis/4nrk1/3R1ppp/6q1/...  \n",
       "4  https://lichess.org/analysis/8/4Q3/k1q5/5p2/r2...  "
      ]
     },
     "execution_count": 147,
     "metadata": {},
     "output_type": "execute_result"
    }
   ],
   "source": [
    "#Set data types back to int32 for numeric columns\n",
    "puzzle_vocabulary_pd.astype({'rating': 'int32','attempt_count': 'int32','average_seconds':'int32','move_count':'int32'}).dtypes\n",
    "#Check for Null values\n",
    "print(len(puzzle_vocabulary_pd) - puzzle_vocabulary_pd.count())\n",
    "puzzle_vocabulary_pd.head()"
   ]
  },
  {
   "cell_type": "markdown",
   "metadata": {},
   "source": [
    "<h2>Save Files for Projector</h2>"
   ]
  },
  {
   "cell_type": "code",
   "execution_count": 148,
   "metadata": {},
   "outputs": [],
   "source": [
    "#Save Metadata\n",
    "puzzle_vocabulary_pd.to_csv(\n",
    "        'meta.tsv',\n",
    "        sep='\\t',\n",
    "        index=False,\n",
    "        header=True,\n",
    "        encoding='utf-8'\n",
    "    )"
   ]
  },
  {
   "cell_type": "code",
   "execution_count": 118,
   "metadata": {},
   "outputs": [],
   "source": [
    "#Save vectors\n",
    "vectors.to_csv(\n",
    "        'vectors.tsv',\n",
    "        sep='\\t',\n",
    "        index=False,\n",
    "        header=False,\n",
    "        encoding='utf-8'\n",
    "    )"
   ]
  },
  {
   "cell_type": "code",
   "execution_count": 152,
   "metadata": {},
   "outputs": [],
   "source": [
    "#Generate Config For Projector\n",
    "import json\n",
    "embeddings = []\n",
    "embeddings.append({\"tensorName\": \"Chess Puzzle Embeddings 1\",\n",
    "      \"tensorShape\": [\n",
    "        vectors.shape[0],\n",
    "        vectors.shape[1]\n",
    "      ],\n",
    "      \"tensorPath\": \"https://raw.githubusercontent.com/biltmire/ChessPuzzleEmbeddings/master/dim200vectors.tsv\",\n",
    "      \"metadataPath\": \"https://raw.githubusercontent.com/biltmire/ChessPuzzleEmbeddings/master/dim200meta.tsv\",\n",
    "  })\n",
    "\n",
    "with open('../../ChessPuzzleEmbeddings/puzzle_config.json', \"w+\") as text_file:\n",
    "    text_file.write(json.dumps({\"embeddings\": embeddings}))"
   ]
  }
 ],
 "metadata": {
  "kernelspec": {
   "display_name": "Python 3",
   "language": "python",
   "name": "python3"
  },
  "language_info": {
   "codemirror_mode": {
    "name": "ipython",
    "version": 3
   },
   "file_extension": ".py",
   "mimetype": "text/x-python",
   "name": "python",
   "nbconvert_exporter": "python",
   "pygments_lexer": "ipython3",
   "version": "3.7.1"
  }
 },
 "nbformat": 4,
 "nbformat_minor": 4
}
